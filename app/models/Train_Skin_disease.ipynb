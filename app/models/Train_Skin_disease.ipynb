{
 "cells": [
  {
   "cell_type": "markdown",
   "id": "f643e851-ef5c-4ec5-9873-4001c066530d",
   "metadata": {},
   "source": [
    "## Import Libraries"
   ]
  },
  {
   "cell_type": "code",
   "execution_count": 2,
   "id": "391d8dec-371d-4324-b710-68f4a5da05ab",
   "metadata": {},
   "outputs": [],
   "source": [
    "import tensorflow as tf\n",
    "import matplotlib.pyplot as plt\n",
    "import pandas as pd\n",
    "import seaborn as sns"
   ]
  },
  {
   "cell_type": "markdown",
   "id": "02c51fdb-729e-4c66-8589-c7edc68eebe0",
   "metadata": {},
   "source": [
    "### Training image preprocessing"
   ]
  },
  {
   "cell_type": "code",
   "execution_count": 3,
   "id": "489f5bea-2fc6-4fcf-ad44-60086ed84b95",
   "metadata": {},
   "outputs": [
    {
     "name": "stdout",
     "output_type": "stream",
     "text": [
      "Found 2239 files belonging to 9 classes.\n"
     ]
    }
   ],
   "source": [
    "training_set = tf.keras.utils.image_dataset_from_directory(\n",
    "    'Dataset/train',\n",
    "    labels=\"inferred\",\n",
    "    label_mode=\"categorical\",\n",
    "    class_names=None,\n",
    "    color_mode=\"rgb\",\n",
    "    batch_size=32,\n",
    "    image_size=(128, 128),\n",
    "    shuffle=True,\n",
    "    seed=None, \n",
    "    validation_split=None,\n",
    "    subset=None,\n",
    "    interpolation=\"bilinear\",\n",
    "    follow_links=False,\n",
    "    crop_to_aspect_ratio=False,\n",
    "    pad_to_aspect_ratio=False,\n",
    "    verbose=True,\n",
    ")"
   ]
  },
  {
   "cell_type": "markdown",
   "id": "54a1d9a3-8975-4f30-8cac-ca7f2b106f64",
   "metadata": {},
   "source": [
    "### Validation image preprocessing"
   ]
  },
  {
   "cell_type": "code",
   "execution_count": 4,
   "id": "2a8d47fe-1710-4c90-96e8-20088c960bb0",
   "metadata": {},
   "outputs": [
    {
     "name": "stdout",
     "output_type": "stream",
     "text": [
      "Found 118 files belonging to 9 classes.\n"
     ]
    }
   ],
   "source": [
    "validation_set = tf.keras.utils.image_dataset_from_directory(\n",
    "    'Dataset/valid',\n",
    "    labels=\"inferred\",\n",
    "    label_mode=\"categorical\",\n",
    "    class_names=None,\n",
    "    color_mode=\"rgb\",\n",
    "    batch_size=32,\n",
    "    image_size=(128, 128),\n",
    "    shuffle=True,\n",
    "    seed=None, \n",
    "    validation_split=None,\n",
    "    subset=None,\n",
    "    interpolation=\"bilinear\",\n",
    "    follow_links=False,\n",
    "    crop_to_aspect_ratio=False,\n",
    "    pad_to_aspect_ratio=False,\n",
    "    verbose=True,\n",
    ")"
   ]
  },
  {
   "cell_type": "code",
   "execution_count": 5,
   "id": "f2fc67ff-4062-4ce1-a7f1-48f006447ddc",
   "metadata": {},
   "outputs": [
    {
     "data": {
      "text/plain": [
       "<_PrefetchDataset element_spec=(TensorSpec(shape=(None, 128, 128, 3), dtype=tf.float32, name=None), TensorSpec(shape=(None, 9), dtype=tf.float32, name=None))>"
      ]
     },
     "execution_count": 5,
     "metadata": {},
     "output_type": "execute_result"
    }
   ],
   "source": [
    "training_set"
   ]
  },
  {
   "cell_type": "code",
   "execution_count": 6,
   "id": "3831dd71-df1b-442d-97f9-35aabd1f9f01",
   "metadata": {},
   "outputs": [
    {
     "name": "stdout",
     "output_type": "stream",
     "text": [
      "tf.Tensor(\n",
      "[[[[1.76277100e+02 1.28353271e+02 1.30700684e+02]\n",
      "   [1.77621338e+02 1.32805176e+02 1.35047852e+02]\n",
      "   [1.83236084e+02 1.36255127e+02 1.39381104e+02]\n",
      "   ...\n",
      "   [1.85110352e+02 1.53304688e+02 1.48675293e+02]\n",
      "   [1.85183350e+02 1.56470947e+02 1.52937500e+02]\n",
      "   [1.87884033e+02 1.58933350e+02 1.58489258e+02]]\n",
      "\n",
      "  [[1.79546875e+02 1.28156250e+02 1.30640137e+02]\n",
      "   [1.78806152e+02 1.30376709e+02 1.32801758e+02]\n",
      "   [1.84138428e+02 1.37937012e+02 1.41481445e+02]\n",
      "   ...\n",
      "   [1.84684570e+02 1.55765625e+02 1.53223633e+02]\n",
      "   [1.86517090e+02 1.56637451e+02 1.55218506e+02]\n",
      "   [1.87199463e+02 1.56241699e+02 1.60894287e+02]]\n",
      "\n",
      "  [[1.79247559e+02 1.29512207e+02 1.34427246e+02]\n",
      "   [1.84601807e+02 1.32908936e+02 1.35692871e+02]\n",
      "   [1.82306641e+02 1.36110840e+02 1.38466553e+02]\n",
      "   ...\n",
      "   [1.86392822e+02 1.58740967e+02 1.58433350e+02]\n",
      "   [1.82846436e+02 1.53224121e+02 1.54250488e+02]\n",
      "   [1.84909668e+02 1.55065918e+02 1.55468750e+02]]\n",
      "\n",
      "  ...\n",
      "\n",
      "  [[1.82400146e+02 1.37776855e+02 1.47466064e+02]\n",
      "   [1.81099365e+02 1.37820312e+02 1.48424316e+02]\n",
      "   [1.83414795e+02 1.41581055e+02 1.49644287e+02]\n",
      "   ...\n",
      "   [1.79830322e+02 1.43585205e+02 1.34629150e+02]\n",
      "   [1.79379883e+02 1.48046875e+02 1.38273438e+02]\n",
      "   [1.82443604e+02 1.48912354e+02 1.46533936e+02]]\n",
      "\n",
      "  [[1.85195801e+02 1.39011963e+02 1.48855713e+02]\n",
      "   [1.82217041e+02 1.44348389e+02 1.51623291e+02]\n",
      "   [1.86875000e+02 1.42614502e+02 1.52012695e+02]\n",
      "   ...\n",
      "   [1.79374512e+02 1.43812744e+02 1.35018066e+02]\n",
      "   [1.80222168e+02 1.48667236e+02 1.41709473e+02]\n",
      "   [1.79034912e+02 1.50135986e+02 1.44830322e+02]]\n",
      "\n",
      "  [[1.82575195e+02 1.41272217e+02 1.49787842e+02]\n",
      "   [1.82664062e+02 1.42559326e+02 1.50390137e+02]\n",
      "   [1.82921875e+02 1.41857666e+02 1.46440186e+02]\n",
      "   ...\n",
      "   [1.79612793e+02 1.44417480e+02 1.37386230e+02]\n",
      "   [1.81484863e+02 1.45408936e+02 1.41300537e+02]\n",
      "   [1.77625000e+02 1.46965088e+02 1.42182617e+02]]]\n",
      "\n",
      "\n",
      " [[[2.26572021e+02 2.01657471e+02 2.06673096e+02]\n",
      "   [2.29863525e+02 2.03532227e+02 2.10122314e+02]\n",
      "   [2.11136230e+02 1.87323730e+02 1.93044922e+02]\n",
      "   ...\n",
      "   [2.01592041e+02 1.67729980e+02 1.59054688e+02]\n",
      "   [2.06137939e+02 1.73349365e+02 1.62501953e+02]\n",
      "   [2.05203125e+02 1.71510254e+02 1.61382324e+02]]\n",
      "\n",
      "  [[2.26949951e+02 2.05879150e+02 2.12984375e+02]\n",
      "   [2.31000000e+02 2.07821777e+02 2.20821777e+02]\n",
      "   [2.25750000e+02 2.03255127e+02 2.08134766e+02]\n",
      "   ...\n",
      "   [2.07815186e+02 1.77023682e+02 1.65586182e+02]\n",
      "   [2.03059570e+02 1.68440674e+02 1.55637695e+02]\n",
      "   [2.04354248e+02 1.69730225e+02 1.57347900e+02]]\n",
      "\n",
      "  [[2.29867188e+02 2.04599854e+02 2.08665771e+02]\n",
      "   [2.30197998e+02 2.08135498e+02 2.15000244e+02]\n",
      "   [2.27281982e+02 2.03040527e+02 2.11018555e+02]\n",
      "   ...\n",
      "   [2.03505615e+02 1.66828125e+02 1.52913330e+02]\n",
      "   [2.03737061e+02 1.66375000e+02 1.53427490e+02]\n",
      "   [2.07554688e+02 1.69886230e+02 1.55842041e+02]]\n",
      "\n",
      "  ...\n",
      "\n",
      "  [[2.11176270e+02 1.74531250e+02 1.56863525e+02]\n",
      "   [2.04757812e+02 1.67757812e+02 1.49289062e+02]\n",
      "   [2.07992920e+02 1.70767090e+02 1.52541260e+02]\n",
      "   ...\n",
      "   [2.11218750e+02 1.81915527e+02 1.68797607e+02]\n",
      "   [2.00395752e+02 1.59645752e+02 1.37950439e+02]\n",
      "   [1.99754150e+02 1.60689209e+02 1.41153564e+02]]\n",
      "\n",
      "  [[2.06382324e+02 1.62867188e+02 1.49283447e+02]\n",
      "   [2.07168701e+02 1.69896729e+02 1.51515625e+02]\n",
      "   [2.09416992e+02 1.69494873e+02 1.52604248e+02]\n",
      "   ...\n",
      "   [2.13862305e+02 1.83091309e+02 1.70325684e+02]\n",
      "   [2.13289062e+02 1.77726562e+02 1.60865479e+02]\n",
      "   [2.01305664e+02 1.65504150e+02 1.45511963e+02]]\n",
      "\n",
      "  [[2.04885254e+02 1.57891846e+02 1.48998779e+02]\n",
      "   [2.14073975e+02 1.77057861e+02 1.67421387e+02]\n",
      "   [2.10113770e+02 1.75113770e+02 1.53629395e+02]\n",
      "   ...\n",
      "   [2.11613770e+02 1.83613770e+02 1.71670166e+02]\n",
      "   [2.09118164e+02 1.79606201e+02 1.65391113e+02]\n",
      "   [2.02959717e+02 1.65555908e+02 1.44848633e+02]]]\n",
      "\n",
      "\n",
      " [[[2.17529297e-01 1.31909180e+00 2.31933594e-01]\n",
      "   [1.00000000e+00 2.03027344e+00 0.00000000e+00]\n",
      "   [3.26733398e+00 2.84033203e+00 6.06689453e-01]\n",
      "   ...\n",
      "   [1.05329590e+01 8.96508789e+00 9.41455078e+00]\n",
      "   [9.60620117e+00 7.83276367e+00 5.12084961e+00]\n",
      "   [3.91040039e+00 3.89843750e+00 4.30175781e+00]]\n",
      "\n",
      "  [[2.82348633e+00 2.73803711e+00 6.52587891e-01]\n",
      "   [2.53125000e+00 2.95166016e+00 4.82910156e-01]\n",
      "   [8.58544922e+00 3.79394531e+00 1.98120117e+00]\n",
      "   ...\n",
      "   [1.37001953e+01 1.28898926e+01 8.35083008e+00]\n",
      "   [1.24687500e+01 1.01279297e+01 3.98437500e+00]\n",
      "   [8.58227539e+00 5.69531250e+00 2.69482422e+00]]\n",
      "\n",
      "  [[1.24560547e+00 2.00170898e+00 2.43896484e-01]\n",
      "   [5.54907227e+00 4.35131836e+00 3.35107422e+00]\n",
      "   [8.24780273e+00 4.38989258e+00 3.11035156e-01]\n",
      "   ...\n",
      "   [1.35368652e+01 1.33813477e+01 1.23076172e+01]\n",
      "   [1.27578125e+01 1.13957520e+01 1.08020020e+01]\n",
      "   [8.44628906e+00 8.26831055e+00 5.84472656e+00]]\n",
      "\n",
      "  ...\n",
      "\n",
      "  [[6.21518555e+01 4.63750000e+01 4.30424805e+01]\n",
      "   [8.25207520e+01 6.26120605e+01 5.71096191e+01]\n",
      "   [1.02115723e+02 7.62563477e+01 7.51569824e+01]\n",
      "   ...\n",
      "   [4.58820801e+01 3.79929199e+01 3.08891602e+01]\n",
      "   [3.54633789e+01 2.47915039e+01 2.35310059e+01]\n",
      "   [3.75329590e+01 2.44677734e+01 2.00251465e+01]]\n",
      "\n",
      "  [[5.58442383e+01 3.92141113e+01 3.76318359e+01]\n",
      "   [7.23249512e+01 5.44936523e+01 4.74013672e+01]\n",
      "   [9.44919434e+01 7.03022461e+01 6.84218750e+01]\n",
      "   ...\n",
      "   [4.10810547e+01 3.12841797e+01 2.84743652e+01]\n",
      "   [3.42763672e+01 2.57294922e+01 1.65029297e+01]\n",
      "   [3.47458496e+01 2.41208496e+01 2.29296875e+01]]\n",
      "\n",
      "  [[4.46784668e+01 3.44357910e+01 3.17482910e+01]\n",
      "   [6.53229980e+01 4.80927734e+01 4.53349609e+01]\n",
      "   [8.30832520e+01 6.57153320e+01 6.09487305e+01]\n",
      "   ...\n",
      "   [3.63706055e+01 2.74296875e+01 2.40285645e+01]\n",
      "   [3.81962891e+01 2.66213379e+01 2.02587891e+01]\n",
      "   [3.63540039e+01 2.78293457e+01 2.34284668e+01]]]\n",
      "\n",
      "\n",
      " ...\n",
      "\n",
      "\n",
      " [[[1.89000000e+02 1.51000000e+02 1.22000000e+02]\n",
      "   [1.95000000e+02 1.60000000e+02 1.34500000e+02]\n",
      "   [1.93250000e+02 1.61250000e+02 1.38250000e+02]\n",
      "   ...\n",
      "   [1.60000000e+02 1.05000000e+02 1.02000000e+02]\n",
      "   [1.51500000e+02 1.01000000e+02 1.00000000e+02]\n",
      "   [1.48500000e+02 1.01000000e+02 1.01000000e+02]]\n",
      "\n",
      "  [[1.91500000e+02 1.57000000e+02 1.29500000e+02]\n",
      "   [1.97250000e+02 1.63250000e+02 1.35750000e+02]\n",
      "   [2.00250000e+02 1.70250000e+02 1.46250000e+02]\n",
      "   ...\n",
      "   [1.60750000e+02 1.02000000e+02 1.02500000e+02]\n",
      "   [1.53750000e+02 1.01250000e+02 9.87500000e+01]\n",
      "   [1.47000000e+02 9.95000000e+01 9.45000000e+01]]\n",
      "\n",
      "  [[1.93500000e+02 1.58500000e+02 1.33000000e+02]\n",
      "   [1.96000000e+02 1.61000000e+02 1.36500000e+02]\n",
      "   [1.99250000e+02 1.71750000e+02 1.48500000e+02]\n",
      "   ...\n",
      "   [1.65500000e+02 1.02500000e+02 1.03000000e+02]\n",
      "   [1.57750000e+02 9.92500000e+01 9.80000000e+01]\n",
      "   [1.50250000e+02 9.62500000e+01 9.27500000e+01]]\n",
      "\n",
      "  ...\n",
      "\n",
      "  [[1.92750000e+02 1.68000000e+02 1.58250000e+02]\n",
      "   [1.95000000e+02 1.71000000e+02 1.61000000e+02]\n",
      "   [1.97250000e+02 1.68000000e+02 1.60500000e+02]\n",
      "   ...\n",
      "   [1.78750000e+02 1.40750000e+02 1.33250000e+02]\n",
      "   [1.69500000e+02 1.27500000e+02 1.21500000e+02]\n",
      "   [1.64250000e+02 1.24250000e+02 1.19750000e+02]]\n",
      "\n",
      "  [[1.87250000e+02 1.63250000e+02 1.51250000e+02]\n",
      "   [1.93000000e+02 1.65000000e+02 1.55500000e+02]\n",
      "   [1.99000000e+02 1.71000000e+02 1.63500000e+02]\n",
      "   ...\n",
      "   [1.76500000e+02 1.43500000e+02 1.38500000e+02]\n",
      "   [1.71750000e+02 1.33750000e+02 1.28250000e+02]\n",
      "   [1.61500000e+02 1.24000000e+02 1.19500000e+02]]\n",
      "\n",
      "  [[1.87500000e+02 1.60500000e+02 1.51500000e+02]\n",
      "   [1.94500000e+02 1.70000000e+02 1.61500000e+02]\n",
      "   [1.99750000e+02 1.73250000e+02 1.68750000e+02]\n",
      "   ...\n",
      "   [1.74250000e+02 1.36250000e+02 1.28750000e+02]\n",
      "   [1.68750000e+02 1.28750000e+02 1.24250000e+02]\n",
      "   [1.59750000e+02 1.19750000e+02 1.15250000e+02]]]\n",
      "\n",
      "\n",
      " [[[1.71480713e+02 1.49480713e+02 1.61480713e+02]\n",
      "   [1.73379150e+02 1.47094238e+02 1.60031250e+02]\n",
      "   [1.72638916e+02 1.50911377e+02 1.68712646e+02]\n",
      "   ...\n",
      "   [1.48747559e+02 1.23454834e+02 1.39415771e+02]\n",
      "   [1.49347412e+02 1.22409912e+02 1.35090088e+02]\n",
      "   [1.43399658e+02 1.18803467e+02 1.31444092e+02]]\n",
      "\n",
      "  [[1.79461426e+02 1.57858887e+02 1.71105713e+02]\n",
      "   [1.76942139e+02 1.56484375e+02 1.69376709e+02]\n",
      "   [1.78007812e+02 1.54781250e+02 1.73349121e+02]\n",
      "   ...\n",
      "   [1.48911133e+02 1.21117188e+02 1.37382324e+02]\n",
      "   [1.43420410e+02 1.13072021e+02 1.21320312e+02]\n",
      "   [1.44426025e+02 1.13276611e+02 1.22554688e+02]]\n",
      "\n",
      "  [[1.79867188e+02 1.57222168e+02 1.72157227e+02]\n",
      "   [1.78289062e+02 1.56713379e+02 1.70784180e+02]\n",
      "   [1.77169678e+02 1.53729492e+02 1.67181152e+02]\n",
      "   ...\n",
      "   [1.51926270e+02 1.23000000e+02 1.35296143e+02]\n",
      "   [1.45262939e+02 1.19109375e+02 1.30994629e+02]\n",
      "   [1.43509521e+02 1.17242188e+02 1.27063232e+02]]\n",
      "\n",
      "  ...\n",
      "\n",
      "  [[1.67355957e+02 1.38710938e+02 1.59511230e+02]\n",
      "   [1.67260498e+02 1.39638184e+02 1.60505127e+02]\n",
      "   [1.72128418e+02 1.44943848e+02 1.63463135e+02]\n",
      "   ...\n",
      "   [1.38437500e+02 1.15500732e+02 1.31311035e+02]\n",
      "   [1.32000000e+02 1.11000000e+02 1.27244629e+02]\n",
      "   [1.33665771e+02 1.11843750e+02 1.28645020e+02]]\n",
      "\n",
      "  [[1.64567139e+02 1.36035400e+02 1.55895752e+02]\n",
      "   [1.66304688e+02 1.42367188e+02 1.62942139e+02]\n",
      "   [1.70122070e+02 1.45572754e+02 1.66815186e+02]\n",
      "   ...\n",
      "   [1.35515381e+02 1.12515381e+02 1.31822998e+02]\n",
      "   [1.32473389e+02 1.11020264e+02 1.26487549e+02]\n",
      "   [1.32687988e+02 1.10070312e+02 1.25879150e+02]]\n",
      "\n",
      "  [[1.61564941e+02 1.33257812e+02 1.51261475e+02]\n",
      "   [1.67667725e+02 1.38925537e+02 1.60229736e+02]\n",
      "   [1.66840332e+02 1.43402832e+02 1.62137207e+02]\n",
      "   ...\n",
      "   [1.34621582e+02 1.11621582e+02 1.29296875e+02]\n",
      "   [1.29425537e+02 1.12136475e+02 1.25926025e+02]\n",
      "   [1.27101562e+02 1.04217529e+02 1.19834229e+02]]]\n",
      "\n",
      "\n",
      " [[[1.95166504e+02 1.64377930e+02 1.78372559e+02]\n",
      "   [1.90625488e+02 1.63409912e+02 1.74062988e+02]\n",
      "   [1.90452148e+02 1.63756836e+02 1.73018311e+02]\n",
      "   ...\n",
      "   [2.08599854e+02 1.82190918e+02 1.96282227e+02]\n",
      "   [2.11610352e+02 1.86027588e+02 1.99742188e+02]\n",
      "   [2.15408691e+02 1.88893066e+02 2.01959229e+02]]\n",
      "\n",
      "  [[2.00589600e+02 1.68001465e+02 1.73590088e+02]\n",
      "   [2.03656250e+02 1.72051514e+02 1.78137695e+02]\n",
      "   [2.02333008e+02 1.74453369e+02 1.78796387e+02]\n",
      "   ...\n",
      "   [2.10018066e+02 1.80226562e+02 1.97435059e+02]\n",
      "   [2.10985840e+02 1.83515625e+02 2.00803223e+02]\n",
      "   [2.12248047e+02 1.81354248e+02 1.98312012e+02]]\n",
      "\n",
      "  [[2.04488770e+02 1.74398438e+02 1.85733643e+02]\n",
      "   [2.05280762e+02 1.76684814e+02 1.85822754e+02]\n",
      "   [2.07437500e+02 1.79103760e+02 1.88674805e+02]\n",
      "   ...\n",
      "   [2.13406982e+02 1.82280518e+02 1.99454590e+02]\n",
      "   [2.11804688e+02 1.81937744e+02 1.97073242e+02]\n",
      "   [2.15512207e+02 1.85577148e+02 2.01222168e+02]]\n",
      "\n",
      "  ...\n",
      "\n",
      "  [[2.11954834e+02 1.80000000e+02 1.95045166e+02]\n",
      "   [2.05486572e+02 1.71182129e+02 1.90043945e+02]\n",
      "   [2.01770752e+02 1.69196777e+02 1.81030029e+02]\n",
      "   ...\n",
      "   [2.11745117e+02 1.78936768e+02 1.89200195e+02]\n",
      "   [2.10486816e+02 1.78197754e+02 1.88348633e+02]\n",
      "   [2.11309814e+02 1.78065918e+02 1.89575439e+02]]\n",
      "\n",
      "  [[2.10120850e+02 1.76667236e+02 1.93581787e+02]\n",
      "   [2.10864014e+02 1.74737549e+02 1.95651611e+02]\n",
      "   [2.10549805e+02 1.72453125e+02 1.93976318e+02]\n",
      "   ...\n",
      "   [2.12554688e+02 1.78822998e+02 1.92364990e+02]\n",
      "   [2.13701416e+02 1.78921875e+02 1.94865479e+02]\n",
      "   [2.12148926e+02 1.77261475e+02 1.90964111e+02]]\n",
      "\n",
      "  [[2.10469971e+02 1.78838867e+02 1.90562500e+02]\n",
      "   [2.12183350e+02 1.80683838e+02 1.97242676e+02]\n",
      "   [2.13724854e+02 1.81049561e+02 1.98290039e+02]\n",
      "   ...\n",
      "   [2.17265625e+02 1.83427979e+02 2.00226562e+02]\n",
      "   [2.15527588e+02 1.80620850e+02 1.97574463e+02]\n",
      "   [2.13763184e+02 1.82469971e+02 1.97349121e+02]]]], shape=(32, 128, 128, 3), dtype=float32) (32, 128, 128, 3)\n",
      "tf.Tensor(\n",
      "[[0. 0. 0. 0. 0. 1. 0. 0. 0.]\n",
      " [0. 1. 0. 0. 0. 0. 0. 0. 0.]\n",
      " [0. 0. 0. 0. 0. 1. 0. 0. 0.]\n",
      " [1. 0. 0. 0. 0. 0. 0. 0. 0.]\n",
      " [0. 0. 1. 0. 0. 0. 0. 0. 0.]\n",
      " [0. 0. 0. 1. 0. 0. 0. 0. 0.]\n",
      " [0. 1. 0. 0. 0. 0. 0. 0. 0.]\n",
      " [0. 0. 0. 0. 0. 0. 1. 0. 0.]\n",
      " [0. 0. 0. 0. 0. 1. 0. 0. 0.]\n",
      " [0. 0. 0. 1. 0. 0. 0. 0. 0.]\n",
      " [0. 0. 0. 0. 0. 1. 0. 0. 0.]\n",
      " [0. 0. 0. 0. 0. 0. 0. 1. 0.]\n",
      " [0. 0. 0. 0. 0. 0. 0. 1. 0.]\n",
      " [0. 1. 0. 0. 0. 0. 0. 0. 0.]\n",
      " [0. 1. 0. 0. 0. 0. 0. 0. 0.]\n",
      " [0. 0. 0. 0. 0. 0. 0. 1. 0.]\n",
      " [0. 0. 0. 0. 0. 1. 0. 0. 0.]\n",
      " [0. 0. 0. 1. 0. 0. 0. 0. 0.]\n",
      " [0. 0. 0. 1. 0. 0. 0. 0. 0.]\n",
      " [0. 0. 0. 0. 0. 1. 0. 0. 0.]\n",
      " [0. 0. 0. 1. 0. 0. 0. 0. 0.]\n",
      " [0. 0. 0. 1. 0. 0. 0. 0. 0.]\n",
      " [1. 0. 0. 0. 0. 0. 0. 0. 0.]\n",
      " [0. 0. 0. 0. 0. 0. 0. 0. 1.]\n",
      " [0. 0. 0. 0. 0. 0. 0. 1. 0.]\n",
      " [0. 0. 0. 0. 0. 1. 0. 0. 0.]\n",
      " [0. 0. 0. 1. 0. 0. 0. 0. 0.]\n",
      " [0. 0. 0. 1. 0. 0. 0. 0. 0.]\n",
      " [0. 1. 0. 0. 0. 0. 0. 0. 0.]\n",
      " [0. 0. 0. 1. 0. 0. 0. 0. 0.]\n",
      " [0. 0. 0. 0. 1. 0. 0. 0. 0.]\n",
      " [0. 0. 0. 0. 0. 0. 0. 0. 1.]], shape=(32, 9), dtype=float32) (32, 9)\n"
     ]
    }
   ],
   "source": [
    "for x,y in training_set:\n",
    "    print(x,x.shape)\n",
    "    print(y,y.shape)\n",
    "    break"
   ]
  },
  {
   "cell_type": "markdown",
   "id": "a3bd8a45-cfaa-488b-86c7-0150d7f29541",
   "metadata": {},
   "source": [
    " ## Building model"
   ]
  },
  {
   "cell_type": "code",
   "execution_count": 7,
   "id": "71e5202d-43a9-48e2-900e-b1e492a685d0",
   "metadata": {},
   "outputs": [],
   "source": [
    "from tensorflow.keras.layers import Dense,Conv2D,MaxPool2D,Flatten,Dropout\n",
    "from tensorflow.keras.models import Sequential\n",
    "from tensorflow.keras.optimizers import Adam"
   ]
  },
  {
   "cell_type": "code",
   "execution_count": 8,
   "id": "af8a7611-aa30-4fc7-a306-83ee93418392",
   "metadata": {},
   "outputs": [],
   "source": [
    "model = Sequential()"
   ]
  },
  {
   "cell_type": "markdown",
   "id": "7b6ec71c-cb5d-4313-a147-d52a5a9eb2c6",
   "metadata": {},
   "source": [
    "## Building Convolutional Layer"
   ]
  },
  {
   "cell_type": "code",
   "execution_count": 9,
   "id": "ad2f3b55-7522-42e4-8f53-04e27c228e9e",
   "metadata": {},
   "outputs": [
    {
     "name": "stderr",
     "output_type": "stream",
     "text": [
      "d:\\OJT Project - experiment\\.env\\Lib\\site-packages\\keras\\src\\layers\\convolutional\\base_conv.py:107: UserWarning: Do not pass an `input_shape`/`input_dim` argument to a layer. When using Sequential models, prefer using an `Input(shape)` object as the first layer in the model instead.\n",
      "  super().__init__(activity_regularizer=activity_regularizer, **kwargs)\n"
     ]
    }
   ],
   "source": [
    "model.add(Conv2D(filters=32,kernel_size=3,padding='same',activation='relu',input_shape=[128,128,3]))\n",
    "model.add(Conv2D(filters=32,kernel_size=3,activation='relu'))\n",
    "model.add(MaxPool2D(pool_size=2,strides=2))"
   ]
  },
  {
   "cell_type": "code",
   "execution_count": 10,
   "id": "d2773056-fa4e-4c3a-a085-bf28a939df0c",
   "metadata": {},
   "outputs": [],
   "source": [
    "model.add(Conv2D(filters=64,kernel_size=3,padding='same',activation='relu'))\n",
    "model.add(Conv2D(filters=64,kernel_size=3,activation='relu'))\n",
    "model.add(MaxPool2D(pool_size=2,strides=2))"
   ]
  },
  {
   "cell_type": "code",
   "execution_count": 11,
   "id": "7b36f07a-b8b2-4f32-9d4c-efe9c2f91251",
   "metadata": {},
   "outputs": [],
   "source": [
    "model.add(Conv2D(filters=128,kernel_size=3,padding='same',activation='relu'))\n",
    "model.add(Conv2D(filters=128,kernel_size=3,activation='relu'))\n",
    "model.add(MaxPool2D(pool_size=2,strides=2))"
   ]
  },
  {
   "cell_type": "code",
   "execution_count": 12,
   "id": "0be8713d-2419-4185-be21-3792f3359c51",
   "metadata": {},
   "outputs": [],
   "source": [
    "model.add(Conv2D(filters=256,kernel_size=3,padding='same',activation='relu'))\n",
    "model.add(Conv2D(filters=256,kernel_size=3,activation='relu'))\n",
    "model.add(MaxPool2D(pool_size=2,strides=2))"
   ]
  },
  {
   "cell_type": "code",
   "execution_count": 13,
   "id": "d4bd39cd-4317-4c73-8bc1-dd9100066b16",
   "metadata": {},
   "outputs": [],
   "source": [
    "model.add(Conv2D(filters=512,kernel_size=3,padding='same',activation='relu'))\n",
    "model.add(Conv2D(filters=512,kernel_size=3,activation='relu'))\n",
    "model.add(MaxPool2D(pool_size=2,strides=2))"
   ]
  },
  {
   "cell_type": "code",
   "execution_count": 14,
   "id": "352aa950-82e8-476f-8b1d-2bfcdc9590b4",
   "metadata": {},
   "outputs": [],
   "source": [
    "model.add(Dropout(0.25)) #to avoid overfitting"
   ]
  },
  {
   "cell_type": "code",
   "execution_count": 15,
   "id": "671a07ca-8d8c-4abe-b1e0-95f8895e5900",
   "metadata": {},
   "outputs": [],
   "source": [
    "model.add(Flatten())"
   ]
  },
  {
   "cell_type": "code",
   "execution_count": 16,
   "id": "eabda0ae-1e1b-4e9a-907b-de9d94de9c9e",
   "metadata": {},
   "outputs": [],
   "source": [
    "model.add(Dense(units=1500,activation='relu'))"
   ]
  },
  {
   "cell_type": "code",
   "execution_count": 17,
   "id": "d0aaac96-1eea-4366-926b-8857ae5ce97a",
   "metadata": {},
   "outputs": [],
   "source": [
    "model.add(Dropout(0.4))"
   ]
  },
  {
   "cell_type": "code",
   "execution_count": 19,
   "id": "728008fb",
   "metadata": {},
   "outputs": [],
   "source": [
    "model.add(Dense(units=9, activation='softmax'))\n"
   ]
  },
  {
   "cell_type": "markdown",
   "id": "ec757739-2422-4ca7-addd-901b2f291b58",
   "metadata": {},
   "source": [
    "## Compiling Model"
   ]
  },
  {
   "cell_type": "code",
   "execution_count": 20,
   "id": "a3559606-ec28-4dbc-a428-2ed13d6d63f9",
   "metadata": {},
   "outputs": [],
   "source": [
    "model.compile(optimizer=tf.keras.optimizers.Adam(\n",
    "    learning_rate=0.0001),loss='categorical_crossentropy',metrics=['accuracy'])"
   ]
  },
  {
   "cell_type": "code",
   "execution_count": 21,
   "id": "b6952298-30df-4b15-bf18-9642ddca6398",
   "metadata": {},
   "outputs": [
    {
     "data": {
      "text/html": [
       "<pre style=\"white-space:pre;overflow-x:auto;line-height:normal;font-family:Menlo,'DejaVu Sans Mono',consolas,'Courier New',monospace\"><span style=\"font-weight: bold\">Model: \"sequential\"</span>\n",
       "</pre>\n"
      ],
      "text/plain": [
       "\u001b[1mModel: \"sequential\"\u001b[0m\n"
      ]
     },
     "metadata": {},
     "output_type": "display_data"
    },
    {
     "data": {
      "text/html": [
       "<pre style=\"white-space:pre;overflow-x:auto;line-height:normal;font-family:Menlo,'DejaVu Sans Mono',consolas,'Courier New',monospace\">┏━━━━━━━━━━━━━━━━━━━━━━━━━━━━━━━━━┳━━━━━━━━━━━━━━━━━━━━━━━━┳━━━━━━━━━━━━━━━┓\n",
       "┃<span style=\"font-weight: bold\"> Layer (type)                    </span>┃<span style=\"font-weight: bold\"> Output Shape           </span>┃<span style=\"font-weight: bold\">       Param # </span>┃\n",
       "┡━━━━━━━━━━━━━━━━━━━━━━━━━━━━━━━━━╇━━━━━━━━━━━━━━━━━━━━━━━━╇━━━━━━━━━━━━━━━┩\n",
       "│ conv2d (<span style=\"color: #0087ff; text-decoration-color: #0087ff\">Conv2D</span>)                 │ (<span style=\"color: #00d7ff; text-decoration-color: #00d7ff\">None</span>, <span style=\"color: #00af00; text-decoration-color: #00af00\">128</span>, <span style=\"color: #00af00; text-decoration-color: #00af00\">128</span>, <span style=\"color: #00af00; text-decoration-color: #00af00\">32</span>)   │           <span style=\"color: #00af00; text-decoration-color: #00af00\">896</span> │\n",
       "├─────────────────────────────────┼────────────────────────┼───────────────┤\n",
       "│ conv2d_1 (<span style=\"color: #0087ff; text-decoration-color: #0087ff\">Conv2D</span>)               │ (<span style=\"color: #00d7ff; text-decoration-color: #00d7ff\">None</span>, <span style=\"color: #00af00; text-decoration-color: #00af00\">126</span>, <span style=\"color: #00af00; text-decoration-color: #00af00\">126</span>, <span style=\"color: #00af00; text-decoration-color: #00af00\">32</span>)   │         <span style=\"color: #00af00; text-decoration-color: #00af00\">9,248</span> │\n",
       "├─────────────────────────────────┼────────────────────────┼───────────────┤\n",
       "│ max_pooling2d (<span style=\"color: #0087ff; text-decoration-color: #0087ff\">MaxPooling2D</span>)    │ (<span style=\"color: #00d7ff; text-decoration-color: #00d7ff\">None</span>, <span style=\"color: #00af00; text-decoration-color: #00af00\">63</span>, <span style=\"color: #00af00; text-decoration-color: #00af00\">63</span>, <span style=\"color: #00af00; text-decoration-color: #00af00\">32</span>)     │             <span style=\"color: #00af00; text-decoration-color: #00af00\">0</span> │\n",
       "├─────────────────────────────────┼────────────────────────┼───────────────┤\n",
       "│ conv2d_2 (<span style=\"color: #0087ff; text-decoration-color: #0087ff\">Conv2D</span>)               │ (<span style=\"color: #00d7ff; text-decoration-color: #00d7ff\">None</span>, <span style=\"color: #00af00; text-decoration-color: #00af00\">63</span>, <span style=\"color: #00af00; text-decoration-color: #00af00\">63</span>, <span style=\"color: #00af00; text-decoration-color: #00af00\">64</span>)     │        <span style=\"color: #00af00; text-decoration-color: #00af00\">18,496</span> │\n",
       "├─────────────────────────────────┼────────────────────────┼───────────────┤\n",
       "│ conv2d_3 (<span style=\"color: #0087ff; text-decoration-color: #0087ff\">Conv2D</span>)               │ (<span style=\"color: #00d7ff; text-decoration-color: #00d7ff\">None</span>, <span style=\"color: #00af00; text-decoration-color: #00af00\">61</span>, <span style=\"color: #00af00; text-decoration-color: #00af00\">61</span>, <span style=\"color: #00af00; text-decoration-color: #00af00\">64</span>)     │        <span style=\"color: #00af00; text-decoration-color: #00af00\">36,928</span> │\n",
       "├─────────────────────────────────┼────────────────────────┼───────────────┤\n",
       "│ max_pooling2d_1 (<span style=\"color: #0087ff; text-decoration-color: #0087ff\">MaxPooling2D</span>)  │ (<span style=\"color: #00d7ff; text-decoration-color: #00d7ff\">None</span>, <span style=\"color: #00af00; text-decoration-color: #00af00\">30</span>, <span style=\"color: #00af00; text-decoration-color: #00af00\">30</span>, <span style=\"color: #00af00; text-decoration-color: #00af00\">64</span>)     │             <span style=\"color: #00af00; text-decoration-color: #00af00\">0</span> │\n",
       "├─────────────────────────────────┼────────────────────────┼───────────────┤\n",
       "│ conv2d_4 (<span style=\"color: #0087ff; text-decoration-color: #0087ff\">Conv2D</span>)               │ (<span style=\"color: #00d7ff; text-decoration-color: #00d7ff\">None</span>, <span style=\"color: #00af00; text-decoration-color: #00af00\">30</span>, <span style=\"color: #00af00; text-decoration-color: #00af00\">30</span>, <span style=\"color: #00af00; text-decoration-color: #00af00\">128</span>)    │        <span style=\"color: #00af00; text-decoration-color: #00af00\">73,856</span> │\n",
       "├─────────────────────────────────┼────────────────────────┼───────────────┤\n",
       "│ conv2d_5 (<span style=\"color: #0087ff; text-decoration-color: #0087ff\">Conv2D</span>)               │ (<span style=\"color: #00d7ff; text-decoration-color: #00d7ff\">None</span>, <span style=\"color: #00af00; text-decoration-color: #00af00\">28</span>, <span style=\"color: #00af00; text-decoration-color: #00af00\">28</span>, <span style=\"color: #00af00; text-decoration-color: #00af00\">128</span>)    │       <span style=\"color: #00af00; text-decoration-color: #00af00\">147,584</span> │\n",
       "├─────────────────────────────────┼────────────────────────┼───────────────┤\n",
       "│ max_pooling2d_2 (<span style=\"color: #0087ff; text-decoration-color: #0087ff\">MaxPooling2D</span>)  │ (<span style=\"color: #00d7ff; text-decoration-color: #00d7ff\">None</span>, <span style=\"color: #00af00; text-decoration-color: #00af00\">14</span>, <span style=\"color: #00af00; text-decoration-color: #00af00\">14</span>, <span style=\"color: #00af00; text-decoration-color: #00af00\">128</span>)    │             <span style=\"color: #00af00; text-decoration-color: #00af00\">0</span> │\n",
       "├─────────────────────────────────┼────────────────────────┼───────────────┤\n",
       "│ conv2d_6 (<span style=\"color: #0087ff; text-decoration-color: #0087ff\">Conv2D</span>)               │ (<span style=\"color: #00d7ff; text-decoration-color: #00d7ff\">None</span>, <span style=\"color: #00af00; text-decoration-color: #00af00\">14</span>, <span style=\"color: #00af00; text-decoration-color: #00af00\">14</span>, <span style=\"color: #00af00; text-decoration-color: #00af00\">256</span>)    │       <span style=\"color: #00af00; text-decoration-color: #00af00\">295,168</span> │\n",
       "├─────────────────────────────────┼────────────────────────┼───────────────┤\n",
       "│ conv2d_7 (<span style=\"color: #0087ff; text-decoration-color: #0087ff\">Conv2D</span>)               │ (<span style=\"color: #00d7ff; text-decoration-color: #00d7ff\">None</span>, <span style=\"color: #00af00; text-decoration-color: #00af00\">12</span>, <span style=\"color: #00af00; text-decoration-color: #00af00\">12</span>, <span style=\"color: #00af00; text-decoration-color: #00af00\">256</span>)    │       <span style=\"color: #00af00; text-decoration-color: #00af00\">590,080</span> │\n",
       "├─────────────────────────────────┼────────────────────────┼───────────────┤\n",
       "│ max_pooling2d_3 (<span style=\"color: #0087ff; text-decoration-color: #0087ff\">MaxPooling2D</span>)  │ (<span style=\"color: #00d7ff; text-decoration-color: #00d7ff\">None</span>, <span style=\"color: #00af00; text-decoration-color: #00af00\">6</span>, <span style=\"color: #00af00; text-decoration-color: #00af00\">6</span>, <span style=\"color: #00af00; text-decoration-color: #00af00\">256</span>)      │             <span style=\"color: #00af00; text-decoration-color: #00af00\">0</span> │\n",
       "├─────────────────────────────────┼────────────────────────┼───────────────┤\n",
       "│ conv2d_8 (<span style=\"color: #0087ff; text-decoration-color: #0087ff\">Conv2D</span>)               │ (<span style=\"color: #00d7ff; text-decoration-color: #00d7ff\">None</span>, <span style=\"color: #00af00; text-decoration-color: #00af00\">6</span>, <span style=\"color: #00af00; text-decoration-color: #00af00\">6</span>, <span style=\"color: #00af00; text-decoration-color: #00af00\">512</span>)      │     <span style=\"color: #00af00; text-decoration-color: #00af00\">1,180,160</span> │\n",
       "├─────────────────────────────────┼────────────────────────┼───────────────┤\n",
       "│ conv2d_9 (<span style=\"color: #0087ff; text-decoration-color: #0087ff\">Conv2D</span>)               │ (<span style=\"color: #00d7ff; text-decoration-color: #00d7ff\">None</span>, <span style=\"color: #00af00; text-decoration-color: #00af00\">4</span>, <span style=\"color: #00af00; text-decoration-color: #00af00\">4</span>, <span style=\"color: #00af00; text-decoration-color: #00af00\">512</span>)      │     <span style=\"color: #00af00; text-decoration-color: #00af00\">2,359,808</span> │\n",
       "├─────────────────────────────────┼────────────────────────┼───────────────┤\n",
       "│ max_pooling2d_4 (<span style=\"color: #0087ff; text-decoration-color: #0087ff\">MaxPooling2D</span>)  │ (<span style=\"color: #00d7ff; text-decoration-color: #00d7ff\">None</span>, <span style=\"color: #00af00; text-decoration-color: #00af00\">2</span>, <span style=\"color: #00af00; text-decoration-color: #00af00\">2</span>, <span style=\"color: #00af00; text-decoration-color: #00af00\">512</span>)      │             <span style=\"color: #00af00; text-decoration-color: #00af00\">0</span> │\n",
       "├─────────────────────────────────┼────────────────────────┼───────────────┤\n",
       "│ dropout (<span style=\"color: #0087ff; text-decoration-color: #0087ff\">Dropout</span>)               │ (<span style=\"color: #00d7ff; text-decoration-color: #00d7ff\">None</span>, <span style=\"color: #00af00; text-decoration-color: #00af00\">2</span>, <span style=\"color: #00af00; text-decoration-color: #00af00\">2</span>, <span style=\"color: #00af00; text-decoration-color: #00af00\">512</span>)      │             <span style=\"color: #00af00; text-decoration-color: #00af00\">0</span> │\n",
       "├─────────────────────────────────┼────────────────────────┼───────────────┤\n",
       "│ flatten (<span style=\"color: #0087ff; text-decoration-color: #0087ff\">Flatten</span>)               │ (<span style=\"color: #00d7ff; text-decoration-color: #00d7ff\">None</span>, <span style=\"color: #00af00; text-decoration-color: #00af00\">2048</span>)           │             <span style=\"color: #00af00; text-decoration-color: #00af00\">0</span> │\n",
       "├─────────────────────────────────┼────────────────────────┼───────────────┤\n",
       "│ dense (<span style=\"color: #0087ff; text-decoration-color: #0087ff\">Dense</span>)                   │ (<span style=\"color: #00d7ff; text-decoration-color: #00d7ff\">None</span>, <span style=\"color: #00af00; text-decoration-color: #00af00\">1500</span>)           │     <span style=\"color: #00af00; text-decoration-color: #00af00\">3,073,500</span> │\n",
       "├─────────────────────────────────┼────────────────────────┼───────────────┤\n",
       "│ dropout_1 (<span style=\"color: #0087ff; text-decoration-color: #0087ff\">Dropout</span>)             │ (<span style=\"color: #00d7ff; text-decoration-color: #00d7ff\">None</span>, <span style=\"color: #00af00; text-decoration-color: #00af00\">1500</span>)           │             <span style=\"color: #00af00; text-decoration-color: #00af00\">0</span> │\n",
       "├─────────────────────────────────┼────────────────────────┼───────────────┤\n",
       "│ dense_1 (<span style=\"color: #0087ff; text-decoration-color: #0087ff\">Dense</span>)                 │ (<span style=\"color: #00d7ff; text-decoration-color: #00d7ff\">None</span>, <span style=\"color: #00af00; text-decoration-color: #00af00\">9</span>)              │        <span style=\"color: #00af00; text-decoration-color: #00af00\">13,509</span> │\n",
       "└─────────────────────────────────┴────────────────────────┴───────────────┘\n",
       "</pre>\n"
      ],
      "text/plain": [
       "┏━━━━━━━━━━━━━━━━━━━━━━━━━━━━━━━━━┳━━━━━━━━━━━━━━━━━━━━━━━━┳━━━━━━━━━━━━━━━┓\n",
       "┃\u001b[1m \u001b[0m\u001b[1mLayer (type)                   \u001b[0m\u001b[1m \u001b[0m┃\u001b[1m \u001b[0m\u001b[1mOutput Shape          \u001b[0m\u001b[1m \u001b[0m┃\u001b[1m \u001b[0m\u001b[1m      Param #\u001b[0m\u001b[1m \u001b[0m┃\n",
       "┡━━━━━━━━━━━━━━━━━━━━━━━━━━━━━━━━━╇━━━━━━━━━━━━━━━━━━━━━━━━╇━━━━━━━━━━━━━━━┩\n",
       "│ conv2d (\u001b[38;5;33mConv2D\u001b[0m)                 │ (\u001b[38;5;45mNone\u001b[0m, \u001b[38;5;34m128\u001b[0m, \u001b[38;5;34m128\u001b[0m, \u001b[38;5;34m32\u001b[0m)   │           \u001b[38;5;34m896\u001b[0m │\n",
       "├─────────────────────────────────┼────────────────────────┼───────────────┤\n",
       "│ conv2d_1 (\u001b[38;5;33mConv2D\u001b[0m)               │ (\u001b[38;5;45mNone\u001b[0m, \u001b[38;5;34m126\u001b[0m, \u001b[38;5;34m126\u001b[0m, \u001b[38;5;34m32\u001b[0m)   │         \u001b[38;5;34m9,248\u001b[0m │\n",
       "├─────────────────────────────────┼────────────────────────┼───────────────┤\n",
       "│ max_pooling2d (\u001b[38;5;33mMaxPooling2D\u001b[0m)    │ (\u001b[38;5;45mNone\u001b[0m, \u001b[38;5;34m63\u001b[0m, \u001b[38;5;34m63\u001b[0m, \u001b[38;5;34m32\u001b[0m)     │             \u001b[38;5;34m0\u001b[0m │\n",
       "├─────────────────────────────────┼────────────────────────┼───────────────┤\n",
       "│ conv2d_2 (\u001b[38;5;33mConv2D\u001b[0m)               │ (\u001b[38;5;45mNone\u001b[0m, \u001b[38;5;34m63\u001b[0m, \u001b[38;5;34m63\u001b[0m, \u001b[38;5;34m64\u001b[0m)     │        \u001b[38;5;34m18,496\u001b[0m │\n",
       "├─────────────────────────────────┼────────────────────────┼───────────────┤\n",
       "│ conv2d_3 (\u001b[38;5;33mConv2D\u001b[0m)               │ (\u001b[38;5;45mNone\u001b[0m, \u001b[38;5;34m61\u001b[0m, \u001b[38;5;34m61\u001b[0m, \u001b[38;5;34m64\u001b[0m)     │        \u001b[38;5;34m36,928\u001b[0m │\n",
       "├─────────────────────────────────┼────────────────────────┼───────────────┤\n",
       "│ max_pooling2d_1 (\u001b[38;5;33mMaxPooling2D\u001b[0m)  │ (\u001b[38;5;45mNone\u001b[0m, \u001b[38;5;34m30\u001b[0m, \u001b[38;5;34m30\u001b[0m, \u001b[38;5;34m64\u001b[0m)     │             \u001b[38;5;34m0\u001b[0m │\n",
       "├─────────────────────────────────┼────────────────────────┼───────────────┤\n",
       "│ conv2d_4 (\u001b[38;5;33mConv2D\u001b[0m)               │ (\u001b[38;5;45mNone\u001b[0m, \u001b[38;5;34m30\u001b[0m, \u001b[38;5;34m30\u001b[0m, \u001b[38;5;34m128\u001b[0m)    │        \u001b[38;5;34m73,856\u001b[0m │\n",
       "├─────────────────────────────────┼────────────────────────┼───────────────┤\n",
       "│ conv2d_5 (\u001b[38;5;33mConv2D\u001b[0m)               │ (\u001b[38;5;45mNone\u001b[0m, \u001b[38;5;34m28\u001b[0m, \u001b[38;5;34m28\u001b[0m, \u001b[38;5;34m128\u001b[0m)    │       \u001b[38;5;34m147,584\u001b[0m │\n",
       "├─────────────────────────────────┼────────────────────────┼───────────────┤\n",
       "│ max_pooling2d_2 (\u001b[38;5;33mMaxPooling2D\u001b[0m)  │ (\u001b[38;5;45mNone\u001b[0m, \u001b[38;5;34m14\u001b[0m, \u001b[38;5;34m14\u001b[0m, \u001b[38;5;34m128\u001b[0m)    │             \u001b[38;5;34m0\u001b[0m │\n",
       "├─────────────────────────────────┼────────────────────────┼───────────────┤\n",
       "│ conv2d_6 (\u001b[38;5;33mConv2D\u001b[0m)               │ (\u001b[38;5;45mNone\u001b[0m, \u001b[38;5;34m14\u001b[0m, \u001b[38;5;34m14\u001b[0m, \u001b[38;5;34m256\u001b[0m)    │       \u001b[38;5;34m295,168\u001b[0m │\n",
       "├─────────────────────────────────┼────────────────────────┼───────────────┤\n",
       "│ conv2d_7 (\u001b[38;5;33mConv2D\u001b[0m)               │ (\u001b[38;5;45mNone\u001b[0m, \u001b[38;5;34m12\u001b[0m, \u001b[38;5;34m12\u001b[0m, \u001b[38;5;34m256\u001b[0m)    │       \u001b[38;5;34m590,080\u001b[0m │\n",
       "├─────────────────────────────────┼────────────────────────┼───────────────┤\n",
       "│ max_pooling2d_3 (\u001b[38;5;33mMaxPooling2D\u001b[0m)  │ (\u001b[38;5;45mNone\u001b[0m, \u001b[38;5;34m6\u001b[0m, \u001b[38;5;34m6\u001b[0m, \u001b[38;5;34m256\u001b[0m)      │             \u001b[38;5;34m0\u001b[0m │\n",
       "├─────────────────────────────────┼────────────────────────┼───────────────┤\n",
       "│ conv2d_8 (\u001b[38;5;33mConv2D\u001b[0m)               │ (\u001b[38;5;45mNone\u001b[0m, \u001b[38;5;34m6\u001b[0m, \u001b[38;5;34m6\u001b[0m, \u001b[38;5;34m512\u001b[0m)      │     \u001b[38;5;34m1,180,160\u001b[0m │\n",
       "├─────────────────────────────────┼────────────────────────┼───────────────┤\n",
       "│ conv2d_9 (\u001b[38;5;33mConv2D\u001b[0m)               │ (\u001b[38;5;45mNone\u001b[0m, \u001b[38;5;34m4\u001b[0m, \u001b[38;5;34m4\u001b[0m, \u001b[38;5;34m512\u001b[0m)      │     \u001b[38;5;34m2,359,808\u001b[0m │\n",
       "├─────────────────────────────────┼────────────────────────┼───────────────┤\n",
       "│ max_pooling2d_4 (\u001b[38;5;33mMaxPooling2D\u001b[0m)  │ (\u001b[38;5;45mNone\u001b[0m, \u001b[38;5;34m2\u001b[0m, \u001b[38;5;34m2\u001b[0m, \u001b[38;5;34m512\u001b[0m)      │             \u001b[38;5;34m0\u001b[0m │\n",
       "├─────────────────────────────────┼────────────────────────┼───────────────┤\n",
       "│ dropout (\u001b[38;5;33mDropout\u001b[0m)               │ (\u001b[38;5;45mNone\u001b[0m, \u001b[38;5;34m2\u001b[0m, \u001b[38;5;34m2\u001b[0m, \u001b[38;5;34m512\u001b[0m)      │             \u001b[38;5;34m0\u001b[0m │\n",
       "├─────────────────────────────────┼────────────────────────┼───────────────┤\n",
       "│ flatten (\u001b[38;5;33mFlatten\u001b[0m)               │ (\u001b[38;5;45mNone\u001b[0m, \u001b[38;5;34m2048\u001b[0m)           │             \u001b[38;5;34m0\u001b[0m │\n",
       "├─────────────────────────────────┼────────────────────────┼───────────────┤\n",
       "│ dense (\u001b[38;5;33mDense\u001b[0m)                   │ (\u001b[38;5;45mNone\u001b[0m, \u001b[38;5;34m1500\u001b[0m)           │     \u001b[38;5;34m3,073,500\u001b[0m │\n",
       "├─────────────────────────────────┼────────────────────────┼───────────────┤\n",
       "│ dropout_1 (\u001b[38;5;33mDropout\u001b[0m)             │ (\u001b[38;5;45mNone\u001b[0m, \u001b[38;5;34m1500\u001b[0m)           │             \u001b[38;5;34m0\u001b[0m │\n",
       "├─────────────────────────────────┼────────────────────────┼───────────────┤\n",
       "│ dense_1 (\u001b[38;5;33mDense\u001b[0m)                 │ (\u001b[38;5;45mNone\u001b[0m, \u001b[38;5;34m9\u001b[0m)              │        \u001b[38;5;34m13,509\u001b[0m │\n",
       "└─────────────────────────────────┴────────────────────────┴───────────────┘\n"
      ]
     },
     "metadata": {},
     "output_type": "display_data"
    },
    {
     "data": {
      "text/html": [
       "<pre style=\"white-space:pre;overflow-x:auto;line-height:normal;font-family:Menlo,'DejaVu Sans Mono',consolas,'Courier New',monospace\"><span style=\"font-weight: bold\"> Total params: </span><span style=\"color: #00af00; text-decoration-color: #00af00\">7,799,233</span> (29.75 MB)\n",
       "</pre>\n"
      ],
      "text/plain": [
       "\u001b[1m Total params: \u001b[0m\u001b[38;5;34m7,799,233\u001b[0m (29.75 MB)\n"
      ]
     },
     "metadata": {},
     "output_type": "display_data"
    },
    {
     "data": {
      "text/html": [
       "<pre style=\"white-space:pre;overflow-x:auto;line-height:normal;font-family:Menlo,'DejaVu Sans Mono',consolas,'Courier New',monospace\"><span style=\"font-weight: bold\"> Trainable params: </span><span style=\"color: #00af00; text-decoration-color: #00af00\">7,799,233</span> (29.75 MB)\n",
       "</pre>\n"
      ],
      "text/plain": [
       "\u001b[1m Trainable params: \u001b[0m\u001b[38;5;34m7,799,233\u001b[0m (29.75 MB)\n"
      ]
     },
     "metadata": {},
     "output_type": "display_data"
    },
    {
     "data": {
      "text/html": [
       "<pre style=\"white-space:pre;overflow-x:auto;line-height:normal;font-family:Menlo,'DejaVu Sans Mono',consolas,'Courier New',monospace\"><span style=\"font-weight: bold\"> Non-trainable params: </span><span style=\"color: #00af00; text-decoration-color: #00af00\">0</span> (0.00 B)\n",
       "</pre>\n"
      ],
      "text/plain": [
       "\u001b[1m Non-trainable params: \u001b[0m\u001b[38;5;34m0\u001b[0m (0.00 B)\n"
      ]
     },
     "metadata": {},
     "output_type": "display_data"
    }
   ],
   "source": [
    "model.summary()"
   ]
  },
  {
   "cell_type": "markdown",
   "id": "1a7ccdef-ca01-479c-8e47-a92acbfb0989",
   "metadata": {},
   "source": [
    " ### Model Training"
   ]
  },
  {
   "cell_type": "code",
   "execution_count": 25,
   "id": "92b2d9c2-07d8-4ccd-beda-53e938e88bc5",
   "metadata": {},
   "outputs": [
    {
     "name": "stdout",
     "output_type": "stream",
     "text": [
      "Epoch 1/50\n",
      "\u001b[1m70/70\u001b[0m \u001b[32m━━━━━━━━━━━━━━━━━━━━\u001b[0m\u001b[37m\u001b[0m \u001b[1m61s\u001b[0m 877ms/step - accuracy: 0.5666 - loss: 1.2267 - val_accuracy: 0.3814 - val_loss: 1.8815\n",
      "Epoch 2/50\n",
      "\u001b[1m70/70\u001b[0m \u001b[32m━━━━━━━━━━━━━━━━━━━━\u001b[0m\u001b[37m\u001b[0m \u001b[1m67s\u001b[0m 950ms/step - accuracy: 0.5925 - loss: 1.1738 - val_accuracy: 0.4068 - val_loss: 1.7749\n",
      "Epoch 3/50\n",
      "\u001b[1m70/70\u001b[0m \u001b[32m━━━━━━━━━━━━━━━━━━━━\u001b[0m\u001b[37m\u001b[0m \u001b[1m88s\u001b[0m 1s/step - accuracy: 0.5909 - loss: 1.1980 - val_accuracy: 0.3814 - val_loss: 1.9980\n",
      "Epoch 4/50\n",
      "\u001b[1m70/70\u001b[0m \u001b[32m━━━━━━━━━━━━━━━━━━━━\u001b[0m\u001b[37m\u001b[0m \u001b[1m88s\u001b[0m 1s/step - accuracy: 0.6126 - loss: 1.0928 - val_accuracy: 0.4068 - val_loss: 1.7401\n",
      "Epoch 5/50\n",
      "\u001b[1m70/70\u001b[0m \u001b[32m━━━━━━━━━━━━━━━━━━━━\u001b[0m\u001b[37m\u001b[0m \u001b[1m102s\u001b[0m 1s/step - accuracy: 0.6339 - loss: 1.0831 - val_accuracy: 0.3644 - val_loss: 1.9060\n",
      "Epoch 6/50\n",
      "\u001b[1m70/70\u001b[0m \u001b[32m━━━━━━━━━━━━━━━━━━━━\u001b[0m\u001b[37m\u001b[0m \u001b[1m95s\u001b[0m 1s/step - accuracy: 0.6358 - loss: 0.9889 - val_accuracy: 0.3814 - val_loss: 2.0438\n",
      "Epoch 7/50\n",
      "\u001b[1m70/70\u001b[0m \u001b[32m━━━━━━━━━━━━━━━━━━━━\u001b[0m\u001b[37m\u001b[0m \u001b[1m99s\u001b[0m 1s/step - accuracy: 0.6465 - loss: 0.9870 - val_accuracy: 0.3983 - val_loss: 2.0682\n",
      "Epoch 8/50\n",
      "\u001b[1m70/70\u001b[0m \u001b[32m━━━━━━━━━━━━━━━━━━━━\u001b[0m\u001b[37m\u001b[0m \u001b[1m90s\u001b[0m 1s/step - accuracy: 0.6955 - loss: 0.8774 - val_accuracy: 0.3814 - val_loss: 2.1665\n",
      "Epoch 9/50\n",
      "\u001b[1m70/70\u001b[0m \u001b[32m━━━━━━━━━━━━━━━━━━━━\u001b[0m\u001b[37m\u001b[0m \u001b[1m95s\u001b[0m 1s/step - accuracy: 0.6985 - loss: 0.8713 - val_accuracy: 0.4661 - val_loss: 2.0229\n",
      "Epoch 10/50\n",
      "\u001b[1m70/70\u001b[0m \u001b[32m━━━━━━━━━━━━━━━━━━━━\u001b[0m\u001b[37m\u001b[0m \u001b[1m94s\u001b[0m 1s/step - accuracy: 0.7184 - loss: 0.7989 - val_accuracy: 0.4153 - val_loss: 1.9907\n",
      "Epoch 11/50\n",
      "\u001b[1m70/70\u001b[0m \u001b[32m━━━━━━━━━━━━━━━━━━━━\u001b[0m\u001b[37m\u001b[0m \u001b[1m95s\u001b[0m 1s/step - accuracy: 0.7447 - loss: 0.7058 - val_accuracy: 0.3983 - val_loss: 2.3529\n",
      "Epoch 12/50\n",
      "\u001b[1m70/70\u001b[0m \u001b[32m━━━━━━━━━━━━━━━━━━━━\u001b[0m\u001b[37m\u001b[0m \u001b[1m80s\u001b[0m 1s/step - accuracy: 0.7674 - loss: 0.6022 - val_accuracy: 0.4153 - val_loss: 2.2211\n",
      "Epoch 13/50\n",
      "\u001b[1m70/70\u001b[0m \u001b[32m━━━━━━━━━━━━━━━━━━━━\u001b[0m\u001b[37m\u001b[0m \u001b[1m75s\u001b[0m 1s/step - accuracy: 0.7930 - loss: 0.6002 - val_accuracy: 0.5085 - val_loss: 2.0028\n",
      "Epoch 14/50\n",
      "\u001b[1m70/70\u001b[0m \u001b[32m━━━━━━━━━━━━━━━━━━━━\u001b[0m\u001b[37m\u001b[0m \u001b[1m172s\u001b[0m 2s/step - accuracy: 0.8064 - loss: 0.5453 - val_accuracy: 0.4492 - val_loss: 2.6644\n",
      "Epoch 15/50\n",
      "\u001b[1m70/70\u001b[0m \u001b[32m━━━━━━━━━━━━━━━━━━━━\u001b[0m\u001b[37m\u001b[0m \u001b[1m81s\u001b[0m 1s/step - accuracy: 0.8443 - loss: 0.4332 - val_accuracy: 0.4237 - val_loss: 2.9756\n",
      "Epoch 16/50\n",
      "\u001b[1m70/70\u001b[0m \u001b[32m━━━━━━━━━━━━━━━━━━━━\u001b[0m\u001b[37m\u001b[0m \u001b[1m83s\u001b[0m 1s/step - accuracy: 0.8442 - loss: 0.4089 - val_accuracy: 0.4407 - val_loss: 2.5631\n",
      "Epoch 17/50\n",
      "\u001b[1m70/70\u001b[0m \u001b[32m━━━━━━━━━━━━━━━━━━━━\u001b[0m\u001b[37m\u001b[0m \u001b[1m80s\u001b[0m 1s/step - accuracy: 0.8601 - loss: 0.3714 - val_accuracy: 0.4237 - val_loss: 2.6194\n",
      "Epoch 18/50\n",
      "\u001b[1m70/70\u001b[0m \u001b[32m━━━━━━━━━━━━━━━━━━━━\u001b[0m\u001b[37m\u001b[0m \u001b[1m79s\u001b[0m 1s/step - accuracy: 0.8775 - loss: 0.3289 - val_accuracy: 0.4237 - val_loss: 2.5946\n",
      "Epoch 19/50\n",
      "\u001b[1m70/70\u001b[0m \u001b[32m━━━━━━━━━━━━━━━━━━━━\u001b[0m\u001b[37m\u001b[0m \u001b[1m74s\u001b[0m 1s/step - accuracy: 0.8843 - loss: 0.3087 - val_accuracy: 0.4322 - val_loss: 3.3440\n",
      "Epoch 20/50\n",
      "\u001b[1m70/70\u001b[0m \u001b[32m━━━━━━━━━━━━━━━━━━━━\u001b[0m\u001b[37m\u001b[0m \u001b[1m70s\u001b[0m 994ms/step - accuracy: 0.8808 - loss: 0.3019 - val_accuracy: 0.4322 - val_loss: 3.1121\n",
      "Epoch 21/50\n",
      "\u001b[1m70/70\u001b[0m \u001b[32m━━━━━━━━━━━━━━━━━━━━\u001b[0m\u001b[37m\u001b[0m \u001b[1m66s\u001b[0m 941ms/step - accuracy: 0.8919 - loss: 0.2704 - val_accuracy: 0.4576 - val_loss: 2.9244\n",
      "Epoch 22/50\n",
      "\u001b[1m70/70\u001b[0m \u001b[32m━━━━━━━━━━━━━━━━━━━━\u001b[0m\u001b[37m\u001b[0m \u001b[1m73s\u001b[0m 1s/step - accuracy: 0.8913 - loss: 0.2826 - val_accuracy: 0.4831 - val_loss: 2.7966\n",
      "Epoch 23/50\n",
      "\u001b[1m70/70\u001b[0m \u001b[32m━━━━━━━━━━━━━━━━━━━━\u001b[0m\u001b[37m\u001b[0m \u001b[1m63s\u001b[0m 898ms/step - accuracy: 0.9171 - loss: 0.2108 - val_accuracy: 0.3983 - val_loss: 3.0970\n",
      "Epoch 24/50\n",
      "\u001b[1m70/70\u001b[0m \u001b[32m━━━━━━━━━━━━━━━━━━━━\u001b[0m\u001b[37m\u001b[0m \u001b[1m63s\u001b[0m 901ms/step - accuracy: 0.9032 - loss: 0.2258 - val_accuracy: 0.4322 - val_loss: 3.0819\n",
      "Epoch 25/50\n",
      "\u001b[1m70/70\u001b[0m \u001b[32m━━━━━━━━━━━━━━━━━━━━\u001b[0m\u001b[37m\u001b[0m \u001b[1m64s\u001b[0m 910ms/step - accuracy: 0.9144 - loss: 0.2097 - val_accuracy: 0.4576 - val_loss: 3.1500\n",
      "Epoch 26/50\n",
      "\u001b[1m70/70\u001b[0m \u001b[32m━━━━━━━━━━━━━━━━━━━━\u001b[0m\u001b[37m\u001b[0m \u001b[1m63s\u001b[0m 897ms/step - accuracy: 0.9189 - loss: 0.2114 - val_accuracy: 0.4576 - val_loss: 2.9764\n",
      "Epoch 27/50\n",
      "\u001b[1m70/70\u001b[0m \u001b[32m━━━━━━━━━━━━━━━━━━━━\u001b[0m\u001b[37m\u001b[0m \u001b[1m70s\u001b[0m 1s/step - accuracy: 0.9265 - loss: 0.1706 - val_accuracy: 0.4153 - val_loss: 4.2944\n",
      "Epoch 28/50\n",
      "\u001b[1m70/70\u001b[0m \u001b[32m━━━━━━━━━━━━━━━━━━━━\u001b[0m\u001b[37m\u001b[0m \u001b[1m74s\u001b[0m 1s/step - accuracy: 0.9286 - loss: 0.1584 - val_accuracy: 0.3983 - val_loss: 3.4485\n",
      "Epoch 29/50\n",
      "\u001b[1m70/70\u001b[0m \u001b[32m━━━━━━━━━━━━━━━━━━━━\u001b[0m\u001b[37m\u001b[0m \u001b[1m74s\u001b[0m 1s/step - accuracy: 0.9244 - loss: 0.1819 - val_accuracy: 0.4153 - val_loss: 3.4119\n",
      "Epoch 30/50\n",
      "\u001b[1m70/70\u001b[0m \u001b[32m━━━━━━━━━━━━━━━━━━━━\u001b[0m\u001b[37m\u001b[0m \u001b[1m76s\u001b[0m 1s/step - accuracy: 0.9283 - loss: 0.1756 - val_accuracy: 0.4407 - val_loss: 3.6250\n",
      "Epoch 31/50\n",
      "\u001b[1m70/70\u001b[0m \u001b[32m━━━━━━━━━━━━━━━━━━━━\u001b[0m\u001b[37m\u001b[0m \u001b[1m3383s\u001b[0m 49s/step - accuracy: 0.9109 - loss: 0.2484 - val_accuracy: 0.4322 - val_loss: 3.0676\n",
      "Epoch 32/50\n",
      "\u001b[1m70/70\u001b[0m \u001b[32m━━━━━━━━━━━━━━━━━━━━\u001b[0m\u001b[37m\u001b[0m \u001b[1m75s\u001b[0m 1s/step - accuracy: 0.9223 - loss: 0.1599 - val_accuracy: 0.4576 - val_loss: 3.4759\n",
      "Epoch 33/50\n",
      "\u001b[1m70/70\u001b[0m \u001b[32m━━━━━━━━━━━━━━━━━━━━\u001b[0m\u001b[37m\u001b[0m \u001b[1m90s\u001b[0m 1s/step - accuracy: 0.9239 - loss: 0.1550 - val_accuracy: 0.4661 - val_loss: 3.5963\n",
      "Epoch 34/50\n",
      "\u001b[1m70/70\u001b[0m \u001b[32m━━━━━━━━━━━━━━━━━━━━\u001b[0m\u001b[37m\u001b[0m \u001b[1m86s\u001b[0m 1s/step - accuracy: 0.9303 - loss: 0.1590 - val_accuracy: 0.4831 - val_loss: 3.4036\n",
      "Epoch 35/50\n",
      "\u001b[1m70/70\u001b[0m \u001b[32m━━━━━━━━━━━━━━━━━━━━\u001b[0m\u001b[37m\u001b[0m \u001b[1m77s\u001b[0m 1s/step - accuracy: 0.9299 - loss: 0.1632 - val_accuracy: 0.4237 - val_loss: 4.0785\n",
      "Epoch 36/50\n",
      "\u001b[1m70/70\u001b[0m \u001b[32m━━━━━━━━━━━━━━━━━━━━\u001b[0m\u001b[37m\u001b[0m \u001b[1m75s\u001b[0m 1s/step - accuracy: 0.9149 - loss: 0.1854 - val_accuracy: 0.4492 - val_loss: 4.0012\n",
      "Epoch 37/50\n",
      "\u001b[1m70/70\u001b[0m \u001b[32m━━━━━━━━━━━━━━━━━━━━\u001b[0m\u001b[37m\u001b[0m \u001b[1m144s\u001b[0m 2s/step - accuracy: 0.9241 - loss: 0.1547 - val_accuracy: 0.4576 - val_loss: 3.2868\n",
      "Epoch 38/50\n",
      "\u001b[1m70/70\u001b[0m \u001b[32m━━━━━━━━━━━━━━━━━━━━\u001b[0m\u001b[37m\u001b[0m \u001b[1m76s\u001b[0m 1s/step - accuracy: 0.9159 - loss: 0.1631 - val_accuracy: 0.4407 - val_loss: 3.6902\n",
      "Epoch 39/50\n",
      "\u001b[1m70/70\u001b[0m \u001b[32m━━━━━━━━━━━━━━━━━━━━\u001b[0m\u001b[37m\u001b[0m \u001b[1m74s\u001b[0m 1s/step - accuracy: 0.9250 - loss: 0.1572 - val_accuracy: 0.3559 - val_loss: 3.3289\n",
      "Epoch 40/50\n",
      "\u001b[1m70/70\u001b[0m \u001b[32m━━━━━━━━━━━━━━━━━━━━\u001b[0m\u001b[37m\u001b[0m \u001b[1m75s\u001b[0m 1s/step - accuracy: 0.9229 - loss: 0.1785 - val_accuracy: 0.4407 - val_loss: 3.3577\n",
      "Epoch 41/50\n",
      "\u001b[1m70/70\u001b[0m \u001b[32m━━━━━━━━━━━━━━━━━━━━\u001b[0m\u001b[37m\u001b[0m \u001b[1m74s\u001b[0m 1s/step - accuracy: 0.9186 - loss: 0.1654 - val_accuracy: 0.3814 - val_loss: 3.5912\n",
      "Epoch 42/50\n",
      "\u001b[1m70/70\u001b[0m \u001b[32m━━━━━━━━━━━━━━━━━━━━\u001b[0m\u001b[37m\u001b[0m \u001b[1m75s\u001b[0m 1s/step - accuracy: 0.9292 - loss: 0.1440 - val_accuracy: 0.4068 - val_loss: 4.1122\n",
      "Epoch 43/50\n",
      "\u001b[1m70/70\u001b[0m \u001b[32m━━━━━━━━━━━━━━━━━━━━\u001b[0m\u001b[37m\u001b[0m \u001b[1m115s\u001b[0m 2s/step - accuracy: 0.9199 - loss: 0.1607 - val_accuracy: 0.4153 - val_loss: 3.5599\n",
      "Epoch 44/50\n",
      "\u001b[1m70/70\u001b[0m \u001b[32m━━━━━━━━━━━━━━━━━━━━\u001b[0m\u001b[37m\u001b[0m \u001b[1m77s\u001b[0m 1s/step - accuracy: 0.9160 - loss: 0.1653 - val_accuracy: 0.4153 - val_loss: 4.2367\n",
      "Epoch 45/50\n",
      "\u001b[1m70/70\u001b[0m \u001b[32m━━━━━━━━━━━━━━━━━━━━\u001b[0m\u001b[37m\u001b[0m \u001b[1m75s\u001b[0m 1s/step - accuracy: 0.9312 - loss: 0.1405 - val_accuracy: 0.3898 - val_loss: 4.2076\n",
      "Epoch 46/50\n",
      "\u001b[1m70/70\u001b[0m \u001b[32m━━━━━━━━━━━━━━━━━━━━\u001b[0m\u001b[37m\u001b[0m \u001b[1m75s\u001b[0m 1s/step - accuracy: 0.9136 - loss: 0.1971 - val_accuracy: 0.4153 - val_loss: 3.7164\n",
      "Epoch 47/50\n",
      "\u001b[1m70/70\u001b[0m \u001b[32m━━━━━━━━━━━━━━━━━━━━\u001b[0m\u001b[37m\u001b[0m \u001b[1m74s\u001b[0m 1s/step - accuracy: 0.9254 - loss: 0.1499 - val_accuracy: 0.4237 - val_loss: 3.5658\n",
      "Epoch 48/50\n",
      "\u001b[1m70/70\u001b[0m \u001b[32m━━━━━━━━━━━━━━━━━━━━\u001b[0m\u001b[37m\u001b[0m \u001b[1m76s\u001b[0m 1s/step - accuracy: 0.9358 - loss: 0.1576 - val_accuracy: 0.4068 - val_loss: 3.7705\n",
      "Epoch 49/50\n",
      "\u001b[1m70/70\u001b[0m \u001b[32m━━━━━━━━━━━━━━━━━━━━\u001b[0m\u001b[37m\u001b[0m \u001b[1m94s\u001b[0m 1s/step - accuracy: 0.9374 - loss: 0.1383 - val_accuracy: 0.3983 - val_loss: 4.1509\n",
      "Epoch 50/50\n",
      "\u001b[1m70/70\u001b[0m \u001b[32m━━━━━━━━━━━━━━━━━━━━\u001b[0m\u001b[37m\u001b[0m \u001b[1m85s\u001b[0m 1s/step - accuracy: 0.9260 - loss: 0.1388 - val_accuracy: 0.3898 - val_loss: 4.5793\n"
     ]
    }
   ],
   "source": [
    "training_history = model.fit(x=training_set,validation_data=validation_set,epochs=50)"
   ]
  },
  {
   "cell_type": "markdown",
   "id": "e4f2389f-ddb3-47ff-8a34-521230d74809",
   "metadata": {},
   "source": [
    "## Model evaluation"
   ]
  },
  {
   "cell_type": "code",
   "execution_count": 26,
   "id": "1c590164-fb90-4221-9a0d-e281b4c2dee6",
   "metadata": {},
   "outputs": [
    {
     "name": "stdout",
     "output_type": "stream",
     "text": [
      "\u001b[1m70/70\u001b[0m \u001b[32m━━━━━━━━━━━━━━━━━━━━\u001b[0m\u001b[37m\u001b[0m \u001b[1m20s\u001b[0m 272ms/step - accuracy: 0.9169 - loss: 0.1628\n"
     ]
    }
   ],
   "source": [
    "#model evaluation on training set\n",
    "train_loss,train_acc = model.evaluate(training_set)"
   ]
  },
  {
   "cell_type": "code",
   "execution_count": 27,
   "id": "ba6a565c-e121-4deb-8ff5-3eca05bf7dba",
   "metadata": {},
   "outputs": [
    {
     "name": "stdout",
     "output_type": "stream",
     "text": [
      "0.14654141664505005 0.927646279335022\n"
     ]
    }
   ],
   "source": [
    "print(train_loss,train_acc)"
   ]
  },
  {
   "cell_type": "code",
   "execution_count": 28,
   "id": "5d0dc220-3491-4beb-927d-540ef44bd3c8",
   "metadata": {},
   "outputs": [
    {
     "name": "stdout",
     "output_type": "stream",
     "text": [
      "\u001b[1m4/4\u001b[0m \u001b[32m━━━━━━━━━━━━━━━━━━━━\u001b[0m\u001b[37m\u001b[0m \u001b[1m2s\u001b[0m 236ms/step - accuracy: 0.3986 - loss: 4.4130\n"
     ]
    }
   ],
   "source": [
    "#model on validation set\n",
    "val_loss,val_acc = model.evaluate(validation_set)"
   ]
  },
  {
   "cell_type": "code",
   "execution_count": 29,
   "id": "da55467f-867c-419c-8ddf-cadeed330e7d",
   "metadata": {},
   "outputs": [
    {
     "name": "stdout",
     "output_type": "stream",
     "text": [
      "4.5793328285217285 0.38983049988746643\n"
     ]
    }
   ],
   "source": [
    "print(val_loss,val_acc)"
   ]
  },
  {
   "cell_type": "markdown",
   "id": "086d82f8-a8b4-406d-896b-15484c10988c",
   "metadata": {},
   "source": [
    "## saving model"
   ]
  },
  {
   "cell_type": "code",
   "execution_count": 31,
   "id": "e2191ee4-433d-47d7-bb98-2c733c98c3e7",
   "metadata": {},
   "outputs": [],
   "source": [
    "model.save(\"trained_skin_disease_model.keras\")"
   ]
  },
  {
   "cell_type": "code",
   "execution_count": 32,
   "id": "a9277b30-28d7-49dd-9691-e16d33539238",
   "metadata": {},
   "outputs": [
    {
     "data": {
      "text/plain": [
       "{'accuracy': [0.5658776164054871,\n",
       "  0.5815095901489258,\n",
       "  0.5815095901489258,\n",
       "  0.5993747115135193,\n",
       "  0.6114336848258972,\n",
       "  0.6221527457237244,\n",
       "  0.6382313370704651,\n",
       "  0.6744081974029541,\n",
       "  0.6833407878875732,\n",
       "  0.7016525268554688,\n",
       "  0.7320232391357422,\n",
       "  0.7619472742080688,\n",
       "  0.7833854556083679,\n",
       "  0.8052701950073242,\n",
       "  0.8320679068565369,\n",
       "  0.8316212892532349,\n",
       "  0.8539526462554932,\n",
       "  0.856185793876648,\n",
       "  0.8825368285179138,\n",
       "  0.8811969757080078,\n",
       "  0.8852165937423706,\n",
       "  0.878070592880249,\n",
       "  0.9084412455558777,\n",
       "  0.9084412455558777,\n",
       "  0.9106743931770325,\n",
       "  0.9169272184371948,\n",
       "  0.9209468364715576,\n",
       "  0.9191603660583496,\n",
       "  0.9213934540748596,\n",
       "  0.9173738360404968,\n",
       "  0.9053148627281189,\n",
       "  0.9240732192993164,\n",
       "  0.9187136888504028,\n",
       "  0.9231799840927124,\n",
       "  0.9245198965072632,\n",
       "  0.915587306022644,\n",
       "  0.9182670712471008,\n",
       "  0.9129075407981873,\n",
       "  0.91469407081604,\n",
       "  0.9133541584014893,\n",
       "  0.9124609231948853,\n",
       "  0.9325591921806335,\n",
       "  0.9164806008338928,\n",
       "  0.9187136888504028,\n",
       "  0.915140688419342,\n",
       "  0.915140688419342,\n",
       "  0.9182670712471008,\n",
       "  0.9258597493171692,\n",
       "  0.9334524273872375,\n",
       "  0.9231799840927124],\n",
       " 'loss': [1.2402747869491577,\n",
       "  1.2058662176132202,\n",
       "  1.2095797061920166,\n",
       "  1.1444132328033447,\n",
       "  1.1046615839004517,\n",
       "  1.0355666875839233,\n",
       "  0.9967655539512634,\n",
       "  0.915553867816925,\n",
       "  0.8861872553825378,\n",
       "  0.836537778377533,\n",
       "  0.7205312252044678,\n",
       "  0.6357317566871643,\n",
       "  0.6081404685974121,\n",
       "  0.5346847772598267,\n",
       "  0.44615697860717773,\n",
       "  0.433121919631958,\n",
       "  0.38454899191856384,\n",
       "  0.36425766348838806,\n",
       "  0.30656930804252625,\n",
       "  0.2922728955745697,\n",
       "  0.2827311158180237,\n",
       "  0.3122311532497406,\n",
       "  0.22002550959587097,\n",
       "  0.21517734229564667,\n",
       "  0.2082015722990036,\n",
       "  0.19527293741703033,\n",
       "  0.168335422873497,\n",
       "  0.17097249627113342,\n",
       "  0.18322308361530304,\n",
       "  0.1851223111152649,\n",
       "  0.231000155210495,\n",
       "  0.16505426168441772,\n",
       "  0.16722795367240906,\n",
       "  0.16338258981704712,\n",
       "  0.16110973060131073,\n",
       "  0.18424639105796814,\n",
       "  0.16447018086910248,\n",
       "  0.18139420449733734,\n",
       "  0.18439984321594238,\n",
       "  0.18965759873390198,\n",
       "  0.1729418933391571,\n",
       "  0.14380891621112823,\n",
       "  0.1659655123949051,\n",
       "  0.15802063047885895,\n",
       "  0.17628417909145355,\n",
       "  0.19554786384105682,\n",
       "  0.1634884476661682,\n",
       "  0.17478041350841522,\n",
       "  0.1391543596982956,\n",
       "  0.14227694272994995],\n",
       " 'val_accuracy': [0.3813559412956238,\n",
       "  0.4067796468734741,\n",
       "  0.3813559412956238,\n",
       "  0.4067796468734741,\n",
       "  0.3644067943096161,\n",
       "  0.3813559412956238,\n",
       "  0.39830508828163147,\n",
       "  0.3813559412956238,\n",
       "  0.4661017060279846,\n",
       "  0.41525423526763916,\n",
       "  0.39830508828163147,\n",
       "  0.41525423526763916,\n",
       "  0.508474588394165,\n",
       "  0.44915252923965454,\n",
       "  0.4237288236618042,\n",
       "  0.4406779706478119,\n",
       "  0.4237288236618042,\n",
       "  0.4237288236618042,\n",
       "  0.43220338225364685,\n",
       "  0.43220338225364685,\n",
       "  0.4576271176338196,\n",
       "  0.4830508530139923,\n",
       "  0.39830508828163147,\n",
       "  0.43220338225364685,\n",
       "  0.4576271176338196,\n",
       "  0.4576271176338196,\n",
       "  0.41525423526763916,\n",
       "  0.39830508828163147,\n",
       "  0.41525423526763916,\n",
       "  0.4406779706478119,\n",
       "  0.43220338225364685,\n",
       "  0.4576271176338196,\n",
       "  0.4661017060279846,\n",
       "  0.4830508530139923,\n",
       "  0.4237288236618042,\n",
       "  0.44915252923965454,\n",
       "  0.4576271176338196,\n",
       "  0.4406779706478119,\n",
       "  0.35593220591545105,\n",
       "  0.4406779706478119,\n",
       "  0.3813559412956238,\n",
       "  0.4067796468734741,\n",
       "  0.41525423526763916,\n",
       "  0.41525423526763916,\n",
       "  0.38983049988746643,\n",
       "  0.41525423526763916,\n",
       "  0.4237288236618042,\n",
       "  0.4067796468734741,\n",
       "  0.39830508828163147,\n",
       "  0.38983049988746643],\n",
       " 'val_loss': [1.8814747333526611,\n",
       "  1.7748894691467285,\n",
       "  1.9979617595672607,\n",
       "  1.740085244178772,\n",
       "  1.9059966802597046,\n",
       "  2.04382586479187,\n",
       "  2.0681912899017334,\n",
       "  2.1665000915527344,\n",
       "  2.0228569507598877,\n",
       "  1.9906834363937378,\n",
       "  2.3528685569763184,\n",
       "  2.2210819721221924,\n",
       "  2.0028233528137207,\n",
       "  2.6644320487976074,\n",
       "  2.9756174087524414,\n",
       "  2.563075542449951,\n",
       "  2.619410276412964,\n",
       "  2.5945987701416016,\n",
       "  3.344024658203125,\n",
       "  3.112138509750366,\n",
       "  2.9244039058685303,\n",
       "  2.796566963195801,\n",
       "  3.0970122814178467,\n",
       "  3.081942558288574,\n",
       "  3.1499736309051514,\n",
       "  2.976407051086426,\n",
       "  4.294381141662598,\n",
       "  3.4485270977020264,\n",
       "  3.411893606185913,\n",
       "  3.625044822692871,\n",
       "  3.0675625801086426,\n",
       "  3.4758524894714355,\n",
       "  3.5963423252105713,\n",
       "  3.4036450386047363,\n",
       "  4.078493118286133,\n",
       "  4.001226902008057,\n",
       "  3.2867870330810547,\n",
       "  3.6901919841766357,\n",
       "  3.3289201259613037,\n",
       "  3.3576600551605225,\n",
       "  3.5912396907806396,\n",
       "  4.112227439880371,\n",
       "  3.5599122047424316,\n",
       "  4.23669958114624,\n",
       "  4.207638263702393,\n",
       "  3.7164247035980225,\n",
       "  3.565810203552246,\n",
       "  3.7704830169677734,\n",
       "  4.150902271270752,\n",
       "  4.5793328285217285]}"
      ]
     },
     "execution_count": 32,
     "metadata": {},
     "output_type": "execute_result"
    }
   ],
   "source": [
    "training_history.history"
   ]
  },
  {
   "cell_type": "code",
   "execution_count": 33,
   "id": "4508b716-6c6a-4d7f-8b48-1cbf0b9f1fe9",
   "metadata": {},
   "outputs": [],
   "source": [
    "#recording history in json\n",
    "import json\n",
    "with open(\"training_hist.json\",\"w\") as f:\n",
    "    json.dump(training_history.history,f)"
   ]
  },
  {
   "cell_type": "code",
   "execution_count": 34,
   "id": "b56a98b6-4796-4a23-83c0-520a78f20b00",
   "metadata": {},
   "outputs": [
    {
     "data": {
      "text/plain": [
       "[0.5658776164054871,\n",
       " 0.5815095901489258,\n",
       " 0.5815095901489258,\n",
       " 0.5993747115135193,\n",
       " 0.6114336848258972,\n",
       " 0.6221527457237244,\n",
       " 0.6382313370704651,\n",
       " 0.6744081974029541,\n",
       " 0.6833407878875732,\n",
       " 0.7016525268554688,\n",
       " 0.7320232391357422,\n",
       " 0.7619472742080688,\n",
       " 0.7833854556083679,\n",
       " 0.8052701950073242,\n",
       " 0.8320679068565369,\n",
       " 0.8316212892532349,\n",
       " 0.8539526462554932,\n",
       " 0.856185793876648,\n",
       " 0.8825368285179138,\n",
       " 0.8811969757080078,\n",
       " 0.8852165937423706,\n",
       " 0.878070592880249,\n",
       " 0.9084412455558777,\n",
       " 0.9084412455558777,\n",
       " 0.9106743931770325,\n",
       " 0.9169272184371948,\n",
       " 0.9209468364715576,\n",
       " 0.9191603660583496,\n",
       " 0.9213934540748596,\n",
       " 0.9173738360404968,\n",
       " 0.9053148627281189,\n",
       " 0.9240732192993164,\n",
       " 0.9187136888504028,\n",
       " 0.9231799840927124,\n",
       " 0.9245198965072632,\n",
       " 0.915587306022644,\n",
       " 0.9182670712471008,\n",
       " 0.9129075407981873,\n",
       " 0.91469407081604,\n",
       " 0.9133541584014893,\n",
       " 0.9124609231948853,\n",
       " 0.9325591921806335,\n",
       " 0.9164806008338928,\n",
       " 0.9187136888504028,\n",
       " 0.915140688419342,\n",
       " 0.915140688419342,\n",
       " 0.9182670712471008,\n",
       " 0.9258597493171692,\n",
       " 0.9334524273872375,\n",
       " 0.9231799840927124]"
      ]
     },
     "execution_count": 34,
     "metadata": {},
     "output_type": "execute_result"
    }
   ],
   "source": [
    "training_history.history['accuracy']\n"
   ]
  },
  {
   "cell_type": "markdown",
   "id": "37ff4e29-408c-465b-bd19-2c72ca173d7e",
   "metadata": {},
   "source": [
    "## Accuracy visualization"
   ]
  },
  {
   "cell_type": "code",
   "execution_count": 37,
   "id": "db4ca3a1-871a-4670-9852-cc3e8dfe47ce",
   "metadata": {},
   "outputs": [
    {
     "data": {
      "image/png": "[encoded data removed]",
      "text/plain": [
       "<Figure size 640x480 with 1 Axes>"
      ]
     },
     "metadata": {},
     "output_type": "display_data"
    }
   ],
   "source": [
    "epochs = range(1, len(training_history.history['accuracy']) + 1)\n",
    "plt.plot(epochs, training_history.history['accuracy'], color='red', label='training_accuracy')\n",
    "plt.plot(epochs, training_history.history['val_accuracy'], color='blue', label='validation_accuracy')\n",
    "plt.xlabel(\"Number of Epochs\")\n",
    "plt.ylabel(\"Accuracy\")\n",
    "plt.title(\"Visualization of Accuracy\")\n",
    "plt.legend()\n",
    "plt.show()\n"
   ]
  },
  {
   "cell_type": "markdown",
   "id": "2c1f4455-c975-4348-a7b0-c2009f54eb26",
   "metadata": {},
   "source": [
    "## some other metrics for model evaluation\n"
   ]
  },
  {
   "cell_type": "code",
   "execution_count": 38,
   "id": "e6f68187-8730-4ee5-bf79-32cf8964c1a7",
   "metadata": {},
   "outputs": [
    {
     "data": {
      "text/plain": [
       "['actinic keratosis',\n",
       " 'basal cell carcinoma',\n",
       " 'dermatofibroma',\n",
       " 'melanoma',\n",
       " 'nevus',\n",
       " 'pigmented benign keratosis',\n",
       " 'seborrheic keratosis',\n",
       " 'squamous cell carcinoma',\n",
       " 'vascular lesion']"
      ]
     },
     "execution_count": 38,
     "metadata": {},
     "output_type": "execute_result"
    }
   ],
   "source": [
    "class_name = validation_set.class_names\n",
    "class_name"
   ]
  },
  {
   "cell_type": "code",
   "execution_count": 39,
   "id": "362086a0-500f-4f89-9c6b-f93fe0b7cf60",
   "metadata": {},
   "outputs": [
    {
     "name": "stdout",
     "output_type": "stream",
     "text": [
      "Found 118 files belonging to 9 classes.\n"
     ]
    }
   ],
   "source": [
    "test_set = tf.keras.utils.image_dataset_from_directory(\n",
    "    'Dataset/valid',\n",
    "    labels=\"inferred\",\n",
    "    label_mode=\"categorical\",\n",
    "    class_names=None,\n",
    "    color_mode=\"rgb\",\n",
    "    batch_size=32,\n",
    "    image_size=(128, 128),\n",
    "    shuffle=False,\n",
    "    seed=None, \n",
    "    validation_split=None,\n",
    "    subset=None,\n",
    "    interpolation=\"bilinear\",\n",
    "    follow_links=False,\n",
    "    crop_to_aspect_ratio=False,\n",
    "    pad_to_aspect_ratio=False,\n",
    "    verbose=True,\n",
    ")"
   ]
  },
  {
   "cell_type": "code",
   "execution_count": 40,
   "id": "4745bb3d-f28a-4307-b089-4e06bc702aa6",
   "metadata": {},
   "outputs": [
    {
     "name": "stdout",
     "output_type": "stream",
     "text": [
      "\u001b[1m4/4\u001b[0m \u001b[32m━━━━━━━━━━━━━━━━━━━━\u001b[0m\u001b[37m\u001b[0m \u001b[1m3s\u001b[0m 356ms/step\n"
     ]
    },
    {
     "data": {
      "text/plain": [
       "(array([[9.3259923e-03, 6.4220723e-05, 1.2141430e-04, ..., 6.6339602e-03,\n",
       "         1.2296130e-04, 8.6877131e-05],\n",
       "        [1.2282748e-06, 1.4496420e-09, 2.3464219e-09, ..., 2.9500528e-05,\n",
       "         3.5261878e-09, 7.5512050e-09],\n",
       "        [6.7280862e-03, 1.1893408e-06, 4.0518952e-07, ..., 3.6447069e-08,\n",
       "         5.4172074e-07, 3.7726441e-08],\n",
       "        ...,\n",
       "        [2.8223412e-09, 7.2013450e-01, 3.1564941e-08, ..., 1.3154723e-10,\n",
       "         1.5618649e-09, 2.7986535e-01],\n",
       "        [5.2471161e-16, 9.2565566e-01, 2.9088731e-09, ..., 8.7345948e-16,\n",
       "         7.2318555e-14, 7.4343309e-02],\n",
       "        [0.0000000e+00, 1.2021257e-27, 0.0000000e+00, ..., 0.0000000e+00,\n",
       "         0.0000000e+00, 1.0000000e+00]], dtype=float32),\n",
       " (118, 9))"
      ]
     },
     "execution_count": 40,
     "metadata": {},
     "output_type": "execute_result"
    }
   ],
   "source": [
    "y_pred = model.predict(test_set)\n",
    "y_pred,y_pred.shape"
   ]
  },
  {
   "cell_type": "code",
   "execution_count": 41,
   "id": "ce9a48fc-326f-441a-b4b7-8382f4f4b7ed",
   "metadata": {},
   "outputs": [],
   "source": [
    "predicted_categories = tf.argmax(y_pred,axis=1)"
   ]
  },
  {
   "cell_type": "code",
   "execution_count": 42,
   "id": "56a23f36-f328-4028-8bcc-824f37f393c6",
   "metadata": {},
   "outputs": [
    {
     "data": {
      "text/plain": [
       "<tf.Tensor: shape=(118,), dtype=int64, numpy=\n",
       "array([4, 4, 4, 4, 4, 1, 5, 4, 4, 4, 4, 4, 4, 4, 4, 4, 1, 7, 1, 1, 1, 1,\n",
       "       5, 1, 1, 1, 1, 1, 3, 7, 1, 1, 3, 4, 7, 4, 3, 4, 4, 1, 1, 4, 1, 1,\n",
       "       1, 2, 2, 1, 4, 4, 4, 4, 7, 3, 0, 5, 4, 4, 4, 4, 4, 4, 4, 3, 4, 4,\n",
       "       4, 4, 4, 4, 4, 4, 4, 4, 4, 4, 4, 3, 4, 4, 5, 5, 1, 6, 1, 5, 5, 3,\n",
       "       5, 5, 5, 5, 1, 5, 5, 3, 3, 3, 3, 3, 5, 4, 4, 3, 1, 7, 5, 7, 1, 1,\n",
       "       7, 5, 5, 7, 1, 1, 1, 8], dtype=int64)>"
      ]
     },
     "execution_count": 42,
     "metadata": {},
     "output_type": "execute_result"
    }
   ],
   "source": [
    "predicted_categories "
   ]
  },
  {
   "cell_type": "code",
   "execution_count": 43,
   "id": "6fd344ff-8d89-4b23-ade3-4ffa911127b1",
   "metadata": {},
   "outputs": [
    {
     "data": {
      "text/plain": [
       "<tf.Tensor: shape=(118, 9), dtype=float32, numpy=\n",
       "array([[1., 0., 0., ..., 0., 0., 0.],\n",
       "       [1., 0., 0., ..., 0., 0., 0.],\n",
       "       [1., 0., 0., ..., 0., 0., 0.],\n",
       "       ...,\n",
       "       [0., 0., 0., ..., 0., 0., 1.],\n",
       "       [0., 0., 0., ..., 0., 0., 1.],\n",
       "       [0., 0., 0., ..., 0., 0., 1.]], dtype=float32)>"
      ]
     },
     "execution_count": 43,
     "metadata": {},
     "output_type": "execute_result"
    }
   ],
   "source": [
    "true_categories = tf.concat([y for x,y in test_set],axis=0)\n",
    "true_categories"
   ]
  },
  {
   "cell_type": "code",
   "execution_count": 44,
   "id": "bbb844c3-8f28-4184-a7f5-73525590b9df",
   "metadata": {},
   "outputs": [
    {
     "data": {
      "text/plain": [
       "<tf.Tensor: shape=(118,), dtype=int64, numpy=\n",
       "array([0, 0, 0, 0, 0, 0, 0, 0, 0, 0, 0, 0, 0, 0, 0, 0, 1, 1, 1, 1, 1, 1,\n",
       "       1, 1, 1, 1, 1, 1, 1, 1, 1, 1, 2, 2, 2, 2, 2, 2, 2, 2, 2, 2, 2, 2,\n",
       "       2, 2, 2, 2, 3, 3, 3, 3, 3, 3, 3, 3, 3, 3, 3, 3, 3, 3, 3, 3, 4, 4,\n",
       "       4, 4, 4, 4, 4, 4, 4, 4, 4, 4, 4, 4, 4, 4, 5, 5, 5, 5, 5, 5, 5, 5,\n",
       "       5, 5, 5, 5, 5, 5, 5, 5, 6, 6, 6, 7, 7, 7, 7, 7, 7, 7, 7, 7, 7, 7,\n",
       "       7, 7, 7, 7, 7, 8, 8, 8], dtype=int64)>"
      ]
     },
     "execution_count": 44,
     "metadata": {},
     "output_type": "execute_result"
    }
   ],
   "source": [
    "Y_true = tf.argmax(true_categories,axis=1)\n",
    "Y_true"
   ]
  },
  {
   "cell_type": "code",
   "execution_count": 45,
   "id": "d5d4468e-794b-4f5d-9653-fea648d121a6",
   "metadata": {},
   "outputs": [],
   "source": [
    "from sklearn.metrics import classification_report,confusion_matrix"
   ]
  },
  {
   "cell_type": "code",
   "execution_count": 46,
   "id": "9b9ced9c-5af6-40ff-ad62-d34e13ba1cf1",
   "metadata": {},
   "outputs": [
    {
     "name": "stdout",
     "output_type": "stream",
     "text": [
      "                            precision    recall  f1-score   support\n",
      "\n",
      "         actinic keratosis       0.00      0.00      0.00        16\n",
      "      basal cell carcinoma       0.43      0.75      0.55        16\n",
      "            dermatofibroma       1.00      0.12      0.22        16\n",
      "                  melanoma       0.15      0.12      0.14        16\n",
      "                     nevus       0.32      0.94      0.48        16\n",
      "pigmented benign keratosis       0.59      0.62      0.61        16\n",
      "      seborrheic keratosis       0.00      0.00      0.00         3\n",
      "   squamous cell carcinoma       0.50      0.25      0.33        16\n",
      "           vascular lesion       1.00      0.33      0.50         3\n",
      "\n",
      "                  accuracy                           0.39       118\n",
      "                 macro avg       0.44      0.35      0.31       118\n",
      "              weighted avg       0.43      0.39      0.33       118\n",
      "\n"
     ]
    }
   ],
   "source": [
    "print(classification_report(Y_true,predicted_categories,target_names=class_name))"
   ]
  },
  {
   "cell_type": "code",
   "execution_count": 47,
   "id": "e9ddbed8-5df7-4c85-b695-3339e65ad0c6",
   "metadata": {},
   "outputs": [
    {
     "data": {
      "text/plain": [
       "array([[ 0,  1,  0,  0, 14,  1,  0,  0,  0],\n",
       "       [ 0, 12,  0,  1,  0,  1,  0,  2,  0],\n",
       "       [ 0,  6,  2,  2,  5,  0,  0,  1,  0],\n",
       "       [ 1,  0,  0,  2, 11,  1,  0,  1,  0],\n",
       "       [ 0,  0,  0,  1, 15,  0,  0,  0,  0],\n",
       "       [ 0,  3,  0,  2,  0, 10,  1,  0,  0],\n",
       "       [ 0,  0,  0,  3,  0,  0,  0,  0,  0],\n",
       "       [ 0,  4,  0,  2,  2,  4,  0,  4,  0],\n",
       "       [ 0,  2,  0,  0,  0,  0,  0,  0,  1]], dtype=int64)"
      ]
     },
     "execution_count": 47,
     "metadata": {},
     "output_type": "execute_result"
    }
   ],
   "source": [
    "cm = confusion_matrix(Y_true,predicted_categories)\n",
    "cm"
   ]
  },
  {
   "cell_type": "markdown",
   "id": "0f16502e-95bb-4b16-be66-36c57740a3df",
   "metadata": {},
   "source": [
    "## confucion matrix visualization"
   ]
  },
  {
   "cell_type": "code",
   "execution_count": 48,
   "id": "f6f41cba-5927-42f4-977d-4a8240222e95",
   "metadata": {},
   "outputs": [
    {
     "data": {
      "image/png": "[encoded data removed]",
      "text/plain": [
       "<Figure size 4000x4000 with 2 Axes>"
      ]
     },
     "metadata": {},
     "output_type": "display_data"
    }
   ],
   "source": [
    "plt.figure(figsize=(40,40))\n",
    "sns.heatmap(cm,annot=True)\n",
    "plt.xlabel(\"Predicted class\",fontsize=20)\n",
    "plt.ylabel(\"Actua class\",fontsize=20)\n",
    "plt.title(\"plant diesase prediction\",fontsize=25)\n",
    "plt.show()"
   ]
  },
  {
   "cell_type": "code",
   "execution_count": null,
   "id": "f0bf7b6d-82d7-442a-a69d-65f20c4c2cd0",
   "metadata": {},
   "outputs": [],
   "source": []
  }
 ],
 "metadata": {
  "kernelspec": {
   "display_name": "Python 3 (ipykernel)",
   "language": "python",
   "name": "python3"
  },
  "language_info": {
   "codemirror_mode": {
    "name": "ipython",
    "version": 3
   },
   "file_extension": ".py",
   "mimetype": "text/x-python",
   "name": "python",
   "nbconvert_exporter": "python",
   "pygments_lexer": "ipython3",
   "version": "3.11.4"
  }
 },
 "nbformat": 4,
 "nbformat_minor": 5
}
